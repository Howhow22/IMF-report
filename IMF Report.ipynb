{
 "cells": [
  {
   "cell_type": "code",
   "execution_count": 1,
   "id": "d08170e0",
   "metadata": {},
   "outputs": [],
   "source": [
    "#import libraries\n",
    "import numpy as np\n",
    "import pandas as pd\n",
    "import matplotlib.pyplot as plt"
   ]
  },
  {
   "cell_type": "code",
   "execution_count": 2,
   "id": "2dafc883",
   "metadata": {},
   "outputs": [
    {
     "data": {
      "text/html": [
       "<div>\n",
       "<style scoped>\n",
       "    .dataframe tbody tr th:only-of-type {\n",
       "        vertical-align: middle;\n",
       "    }\n",
       "\n",
       "    .dataframe tbody tr th {\n",
       "        vertical-align: top;\n",
       "    }\n",
       "\n",
       "    .dataframe thead th {\n",
       "        text-align: right;\n",
       "    }\n",
       "</style>\n",
       "<table border=\"1\" class=\"dataframe\">\n",
       "  <thead>\n",
       "    <tr style=\"text-align: right;\">\n",
       "      <th></th>\n",
       "      <th>ID_Num</th>\n",
       "      <th>Country</th>\n",
       "      <th>Region</th>\n",
       "      <th>IMF_Nigo</th>\n",
       "      <th>Step_Nego</th>\n",
       "      <th>Gov_Spending</th>\n",
       "      <th>Business_Freedom</th>\n",
       "      <th>Monetary_Freedom</th>\n",
       "      <th>Investment_Freedom</th>\n",
       "      <th>Population_Millions</th>\n",
       "      <th>GDP_Billions_PPP</th>\n",
       "      <th>Unemployment_Rate</th>\n",
       "      <th>Inflation_Rate</th>\n",
       "      <th>Public_Debt_rate_GDP</th>\n",
       "    </tr>\n",
       "  </thead>\n",
       "  <tbody>\n",
       "    <tr>\n",
       "      <th>0</th>\n",
       "      <td>1</td>\n",
       "      <td>Afghanistan</td>\n",
       "      <td>Asia-Pacific</td>\n",
       "      <td>0</td>\n",
       "      <td>Step4</td>\n",
       "      <td>80.3</td>\n",
       "      <td>49.2</td>\n",
       "      <td>76.7</td>\n",
       "      <td>10.0</td>\n",
       "      <td>35.5</td>\n",
       "      <td>69.6</td>\n",
       "      <td>8.8</td>\n",
       "      <td>5.0</td>\n",
       "      <td>7.3</td>\n",
       "    </tr>\n",
       "    <tr>\n",
       "      <th>1</th>\n",
       "      <td>2</td>\n",
       "      <td>Albania</td>\n",
       "      <td>Europe</td>\n",
       "      <td>1</td>\n",
       "      <td>Step1</td>\n",
       "      <td>73.9</td>\n",
       "      <td>69.3</td>\n",
       "      <td>81.5</td>\n",
       "      <td>70.0</td>\n",
       "      <td>2.9</td>\n",
       "      <td>36.0</td>\n",
       "      <td>13.9</td>\n",
       "      <td>2.0</td>\n",
       "      <td>71.2</td>\n",
       "    </tr>\n",
       "    <tr>\n",
       "      <th>2</th>\n",
       "      <td>3</td>\n",
       "      <td>Algeria</td>\n",
       "      <td>Middle East and North Africa</td>\n",
       "      <td>0</td>\n",
       "      <td>Step4</td>\n",
       "      <td>48.7</td>\n",
       "      <td>61.6</td>\n",
       "      <td>74.9</td>\n",
       "      <td>30.0</td>\n",
       "      <td>41.5</td>\n",
       "      <td>632.9</td>\n",
       "      <td>10.0</td>\n",
       "      <td>5.6</td>\n",
       "      <td>25.8</td>\n",
       "    </tr>\n",
       "    <tr>\n",
       "      <th>3</th>\n",
       "      <td>4</td>\n",
       "      <td>Angola</td>\n",
       "      <td>Sub-Saharan Africa</td>\n",
       "      <td>0</td>\n",
       "      <td>Step4</td>\n",
       "      <td>80.7</td>\n",
       "      <td>55.7</td>\n",
       "      <td>55.4</td>\n",
       "      <td>30.0</td>\n",
       "      <td>28.2</td>\n",
       "      <td>190.3</td>\n",
       "      <td>8.2</td>\n",
       "      <td>31.7</td>\n",
       "      <td>65.3</td>\n",
       "    </tr>\n",
       "    <tr>\n",
       "      <th>4</th>\n",
       "      <td>5</td>\n",
       "      <td>Argentina</td>\n",
       "      <td>Americas</td>\n",
       "      <td>0</td>\n",
       "      <td>Step2</td>\n",
       "      <td>49.5</td>\n",
       "      <td>56.4</td>\n",
       "      <td>60.2</td>\n",
       "      <td>55.0</td>\n",
       "      <td>44.1</td>\n",
       "      <td>920.2</td>\n",
       "      <td>8.7</td>\n",
       "      <td>25.7</td>\n",
       "      <td>52.6</td>\n",
       "    </tr>\n",
       "  </tbody>\n",
       "</table>\n",
       "</div>"
      ],
      "text/plain": [
       "   ID_Num      Country                        Region  IMF_Nigo Step_Nego  \\\n",
       "0       1  Afghanistan                  Asia-Pacific         0     Step4   \n",
       "1       2      Albania                        Europe         1     Step1   \n",
       "2       3      Algeria  Middle East and North Africa         0     Step4   \n",
       "3       4       Angola            Sub-Saharan Africa         0     Step4   \n",
       "4       5    Argentina                      Americas         0     Step2   \n",
       "\n",
       "   Gov_Spending  Business_Freedom  Monetary_Freedom  Investment_Freedom  \\\n",
       "0          80.3              49.2              76.7                10.0   \n",
       "1          73.9              69.3              81.5                70.0   \n",
       "2          48.7              61.6              74.9                30.0   \n",
       "3          80.7              55.7              55.4                30.0   \n",
       "4          49.5              56.4              60.2                55.0   \n",
       "\n",
       "   Population_Millions  GDP_Billions_PPP  Unemployment_Rate  Inflation_Rate  \\\n",
       "0                 35.5              69.6                8.8             5.0   \n",
       "1                  2.9              36.0               13.9             2.0   \n",
       "2                 41.5             632.9               10.0             5.6   \n",
       "3                 28.2             190.3                8.2            31.7   \n",
       "4                 44.1             920.2                8.7            25.7   \n",
       "\n",
       "   Public_Debt_rate_GDP  \n",
       "0                   7.3  \n",
       "1                  71.2  \n",
       "2                  25.8  \n",
       "3                  65.3  \n",
       "4                  52.6  "
      ]
     },
     "execution_count": 2,
     "metadata": {},
     "output_type": "execute_result"
    }
   ],
   "source": [
    "df = pd.read_excel(\"IS507E_IMF_Report__2021_.xlsx\")\n",
    "df.head()"
   ]
  },
  {
   "cell_type": "markdown",
   "id": "32865b12",
   "metadata": {},
   "source": [
    "# Step 1 Data Cleaning\n",
    "Preparing the data before analysis"
   ]
  },
  {
   "cell_type": "code",
   "execution_count": 3,
   "id": "60dc321f",
   "metadata": {},
   "outputs": [
    {
     "data": {
      "text/plain": [
       "ID_Num                  0\n",
       "Country                 0\n",
       "Region                  0\n",
       "IMF_Nigo                0\n",
       "Step_Nego               5\n",
       "Gov_Spending            2\n",
       "Business_Freedom        1\n",
       "Monetary_Freedom        3\n",
       "Investment_Freedom      4\n",
       "Population_Millions     1\n",
       "GDP_Billions_PPP        4\n",
       "Unemployment_Rate       1\n",
       "Inflation_Rate          4\n",
       "Public_Debt_rate_GDP    1\n",
       "dtype: int64"
      ]
     },
     "execution_count": 3,
     "metadata": {},
     "output_type": "execute_result"
    }
   ],
   "source": [
    "df.isnull().sum() #check the null value"
   ]
  },
  {
   "cell_type": "code",
   "execution_count": 4,
   "id": "c3de570b",
   "metadata": {},
   "outputs": [
    {
     "data": {
      "text/plain": [
       "ID_Num                    int64\n",
       "Country                  object\n",
       "Region                   object\n",
       "IMF_Nigo                  int64\n",
       "Step_Nego                object\n",
       "Gov_Spending            float64\n",
       "Business_Freedom        float64\n",
       "Monetary_Freedom        float64\n",
       "Investment_Freedom      float64\n",
       "Population_Millions     float64\n",
       "GDP_Billions_PPP        float64\n",
       "Unemployment_Rate       float64\n",
       "Inflation_Rate          float64\n",
       "Public_Debt_rate_GDP    float64\n",
       "dtype: object"
      ]
     },
     "execution_count": 4,
     "metadata": {},
     "output_type": "execute_result"
    }
   ],
   "source": [
    "df.dtypes #check the type of the data"
   ]
  },
  {
   "cell_type": "code",
   "execution_count": 5,
   "id": "846c3ecf",
   "metadata": {},
   "outputs": [
    {
     "data": {
      "text/plain": [
       "array(['Step4', 'Step1', 'Step2', 'Step3', nan], dtype=object)"
      ]
     },
     "execution_count": 5,
     "metadata": {},
     "output_type": "execute_result"
    }
   ],
   "source": [
    "df['Step_Nego'].unique()"
   ]
  },
  {
   "cell_type": "code",
   "execution_count": 6,
   "id": "2ccec3ce",
   "metadata": {},
   "outputs": [],
   "source": [
    "df['Step_Nego']= df['Step_Nego'].fillna(df['Step_Nego'].mode()[0])"
   ]
  },
  {
   "cell_type": "code",
   "execution_count": 7,
   "id": "60f75849",
   "metadata": {},
   "outputs": [
    {
     "data": {
      "text/plain": [
       "ID_Num                  0\n",
       "Country                 0\n",
       "Region                  0\n",
       "IMF_Nigo                0\n",
       "Step_Nego               0\n",
       "Gov_Spending            2\n",
       "Business_Freedom        1\n",
       "Monetary_Freedom        3\n",
       "Investment_Freedom      4\n",
       "Population_Millions     1\n",
       "GDP_Billions_PPP        4\n",
       "Unemployment_Rate       1\n",
       "Inflation_Rate          4\n",
       "Public_Debt_rate_GDP    1\n",
       "dtype: int64"
      ]
     },
     "execution_count": 7,
     "metadata": {},
     "output_type": "execute_result"
    }
   ],
   "source": [
    "df.isnull().sum()"
   ]
  },
  {
   "cell_type": "code",
   "execution_count": 8,
   "id": "49a7261b",
   "metadata": {},
   "outputs": [],
   "source": [
    "column = ['Gov_Spending','Business_Freedom','Monetary_Freedom','Investment_Freedom',\n",
    "          'Population_Millions','GDP_Billions_PPP','Unemployment_Rate','Inflation_Rate','Public_Debt_rate_GDP']"
   ]
  },
  {
   "cell_type": "code",
   "execution_count": 9,
   "id": "4dc3a49f",
   "metadata": {},
   "outputs": [
    {
     "name": "stdout",
     "output_type": "stream",
     "text": [
      "Step4\n",
      "****************\n",
      "69.55681818181819\n",
      "62.2\n",
      "76.74545454545454\n",
      "56.27906976744186\n",
      "94.72045454545454\n",
      "1527.706976744186\n",
      "7.054545454545458\n",
      "4.088636363636363\n",
      "56.1279069767442\n",
      "Step1\n",
      "****************\n",
      "62.754054054054045\n",
      "65.47567567567569\n",
      "77.22777777777779\n",
      "61.111111111111114\n",
      "17.541666666666664\n",
      "424.1611111111111\n",
      "8.377777777777778\n",
      "3.3916666666666653\n",
      "58.72702702702704\n",
      "Step2\n",
      "****************\n",
      "62.688095238095244\n",
      "67.53023255813955\n",
      "75.66829268292685\n",
      "57.80487804878049\n",
      "30.48837209302325\n",
      "543.5651162790698\n",
      "6.395348837209301\n",
      "29.89761904761905\n",
      "56.11627906976742\n",
      "Step3\n",
      "****************\n",
      "66.55918367346938\n",
      "63.05102040816328\n",
      "75.02799999999998\n",
      "59.84\n",
      "23.581999999999997\n",
      "453.0416666666667\n",
      "7.535999999999999\n",
      "6.295833333333334\n",
      "55.982000000000006\n"
     ]
    }
   ],
   "source": [
    "# use the mean of each step to fill in each of the null value\n",
    "Step = df['Step_Nego'].unique()\n",
    "\n",
    "for i in Step:\n",
    "    print(i)\n",
    "    print(\"****************\")\n",
    "    \n",
    "    df_Step = df.loc[(df['Step_Nego'] == i)]\n",
    "\n",
    "    for col in column:\n",
    "        avrg = df_Step[col].mean()\n",
    "        df.loc[(df['Step_Nego'] == i) & (df[col].isnull()), col] = avrg\n",
    "        print(avrg)\n"
   ]
  },
  {
   "cell_type": "code",
   "execution_count": 10,
   "id": "04468bdd",
   "metadata": {},
   "outputs": [
    {
     "name": "stderr",
     "output_type": "stream",
     "text": [
      "C:\\Users\\user\\AppData\\Local\\Temp\\ipykernel_19144\\1932372838.py:1: FutureWarning: Dropping of nuisance columns in DataFrame reductions (with 'numeric_only=None') is deprecated; in a future version this will raise TypeError.  Select only valid columns before calling the reduction.\n",
      "  df.fillna(df_Step.mean(), inplace = True)\n"
     ]
    }
   ],
   "source": [
    "df.fillna(df_Step.mean(), inplace = True)"
   ]
  },
  {
   "cell_type": "code",
   "execution_count": 11,
   "id": "c470a4a8",
   "metadata": {},
   "outputs": [
    {
     "data": {
      "text/plain": [
       "ID_Num                  0\n",
       "Country                 0\n",
       "Region                  0\n",
       "IMF_Nigo                0\n",
       "Step_Nego               0\n",
       "Gov_Spending            0\n",
       "Business_Freedom        0\n",
       "Monetary_Freedom        0\n",
       "Investment_Freedom      0\n",
       "Population_Millions     0\n",
       "GDP_Billions_PPP        0\n",
       "Unemployment_Rate       0\n",
       "Inflation_Rate          0\n",
       "Public_Debt_rate_GDP    0\n",
       "dtype: int64"
      ]
     },
     "execution_count": 11,
     "metadata": {},
     "output_type": "execute_result"
    }
   ],
   "source": [
    "df.isnull().sum()"
   ]
  },
  {
   "cell_type": "code",
   "execution_count": 12,
   "id": "4c2a165b",
   "metadata": {},
   "outputs": [
    {
     "name": "stdout",
     "output_type": "stream",
     "text": [
      "ID_Num [  1   2   3   4   5   6   7   8   9  10  11  12  13  14  15  16  17  18\n",
      "  19  20  21  22  23  24  25  26  27  28  29  30  31  32  33  34  35  36\n",
      "  37  38  39  40  41  42  43  44  45  46  47  48  49  50  51  52  53  54\n",
      "  55  56  57  58  59  60  61  62  63  64  65  66  67  68  69  70  71  72\n",
      "  73  74  75  76  77  78  79  80  81  82  83  84  85  86  87  88  89  90\n",
      "  91  92  93  94  95  96  97  98  99 100 101 102 103 104 105 106 107 108\n",
      " 109 110 111 112 113 114 115 116 117 118 119 120 121 122 123 124 125 126\n",
      " 127 128 129 130 131 132 133 134 135 136 137 138 139 140 141 142 143 144\n",
      " 145 146 147 148 149 150 151 152 153 154 155 156 157 158 159 160 161 162\n",
      " 163 164 165 166 167 168 169 170 171 172 173 174]\n",
      "Country ['Afghanistan' 'Albania' 'Algeria' 'Angola' 'Argentina' 'Armenia'\n",
      " 'Australia' 'Austria' 'Azerbaijan' 'Bahamas' 'Bahrain' 'Bangladesh'\n",
      " 'Barbados' 'Belarus' 'Belgium' 'Belize' 'Benin' 'Bhutan' 'Bolivia'\n",
      " 'Bosnia and Herzegovina' 'Botswana' 'Brazil' 'Brunei Darussalam'\n",
      " 'Bulgaria' 'Burkina Faso' 'Burma' 'Burundi' 'Cabo Verde' 'Cambodia'\n",
      " 'Cameroon' 'Canada' 'Central African Republic' 'Chad' 'Chile' 'China'\n",
      " 'Colombia' 'Comoros' 'Congo, Democratic Republic of the Congo'\n",
      " 'Congo, Republic of' 'Costa Rica' \"Côte d'Ivoire\" 'Croatia' 'Cuba'\n",
      " 'Cyprus' 'Czech Republic' 'Denmark' 'Djibouti' 'Dominican Republic'\n",
      " 'Ecuador' 'Egypt' 'El Salvador' 'Equatorial Guinea' 'Eritrea' 'Estonia'\n",
      " 'Eswatini' 'Ethiopia' 'Fiji' 'Finland' 'France' 'Gabon' 'Gambia'\n",
      " 'Georgia' 'Germany' 'Ghana' 'Greece' 'Guatemala' 'Guinea' 'Guinea-Bissau'\n",
      " 'Guyana' 'Haiti' 'Honduras' 'Hong Kong' 'Hungary' 'Iceland' 'India'\n",
      " 'Indonesia' 'Iran' 'Ireland' 'Israel' 'Italy' 'Jamaica' 'Japan' 'Jordan'\n",
      " 'Kazakhstan' 'Kenya' 'Korea, South' 'Kuwait' 'Kyrgyz Republic' 'Laos'\n",
      " 'Latvia' 'Lebanon' 'Lesotho' 'Liberia' 'Lithuania' 'Luxembourg' 'Macau'\n",
      " 'Macedonia' 'Madagascar' 'Malawi' 'Malaysia' 'Maldives' 'Mali' 'Malta'\n",
      " 'Mauritania' 'Mauritius' 'Mexico' 'Moldova' 'Mongolia' 'Montenegro'\n",
      " 'Morocco' 'Mozambique' 'Namibia' 'Nepal' 'Netherlands' 'New Zealand'\n",
      " 'Nicaragua' 'Niger' 'Nigeria' 'Norway' 'Oman' 'Pakistan' 'Panama'\n",
      " 'Papua New Guinea' 'Paraguay' 'Peru' 'Philippines' 'Poland' 'Portugal'\n",
      " 'Qatar' 'Romania' 'Russia' 'Rwanda' 'Saint Lucia'\n",
      " 'Saint Vincent and the Grenadines' 'Samoa' 'São Tomé and Príncipe'\n",
      " 'Saudi Arabia' 'Senegal' 'Serbia' 'Sierra Leone' 'Singapore' 'Slovakia'\n",
      " 'Slovenia' 'Solomon Islands' 'South Africa' 'Spain' 'Sri Lanka' 'Sudan'\n",
      " 'Suriname' 'Sweden' 'Switzerland' 'Taiwan ' 'Tajikistan' 'Tanzania'\n",
      " 'Thailand' 'Timor-Leste' 'Togo' 'Tonga' 'Trinidad and Tobago' 'Tunisia'\n",
      " 'Turkey' 'Turkmenistan' 'Uganda' 'Ukraine' 'United Arab Emirates'\n",
      " 'United Kingdom' 'United States' 'Uruguay' 'Uzbekistan' 'Vanuatu'\n",
      " 'Venezuela' 'Vietnam' 'Zambia' 'Zimbabwe']\n",
      "Region ['Asia-Pacific' 'Europe' 'Middle East and North Africa'\n",
      " 'Sub-Saharan Africa' 'Americas']\n",
      "IMF_Nigo [0 1]\n",
      "Step_Nego ['Step4' 'Step1' 'Step2' 'Step3']\n",
      "Gov_Spending [80.3        73.9        48.7        80.7        49.5        62.68809524\n",
      " 60.1        24.5        59.5        86.8        62.7        94.5\n",
      " 65.         41.3        15.2        65.9        83.4        71.6\n",
      " 49.3        46.1        55.2        59.9        63.9        80.\n",
      " 85.4        83.3        71.2        85.9        87.5        51.3\n",
      " 94.2        92.4        81.         70.1        75.         73.4\n",
      " 93.9        40.6        88.4        83.9        33.4         0.\n",
      " 52.1        14.4        27.3        90.3        55.5        68.1\n",
      " 86.3        67.6        51.1        66.55918367 90.4        71.7\n",
      "  7.2         3.9        86.6        70.7        73.6        42.3\n",
      " 82.         23.3        95.6        89.8        86.7        69.4\n",
      " 88.3        78.2        31.7        44.         77.3        91.4\n",
      " 77.4        52.4        26.5        76.         55.         83.7\n",
      " 77.8        68.6        17.3        54.2        85.3        57.1\n",
      " 75.6        33.         62.1        65.1        46.6        70.\n",
      " 91.8        70.3        83.2        60.8        56.1        74.2\n",
      " 59.1        63.1        32.6        72.7        66.9        48.9\n",
      " 42.9        50.4        79.1        96.5        25.3        32.5\n",
      " 87.6        89.1        78.9        86.1        88.7        48.8\n",
      " 35.6        56.8        69.         62.3        79.4        79.3\n",
      " 74.3        67.         57.5        73.3        45.1        84.4\n",
      " 90.7        38.3        36.5        46.2        96.6        77.2\n",
      " 26.7        64.8        90.6        64.6        85.8         0.9\n",
      " 77.         40.9        61.9        74.4        92.         46.9\n",
      " 68.8        48.2        67.5        67.4        54.1        58.1\n",
      " 74.1        80.1        74.5       ]\n",
      "Business_Freedom [49.2        69.3        61.6        55.7        56.4        78.3\n",
      " 88.3        74.9        69.5        68.5        71.4        50.9\n",
      " 69.8        75.         78.1        61.8        62.4        68.7\n",
      " 58.8        49.7        57.9        80.2        62.7        51.6\n",
      " 52.8        50.3        65.2        29.9        44.4        81.9\n",
      " 24.2        28.1        76.6        56.2        57.2        53.2\n",
      " 38.2        67.2        61.         60.7        20.         76.9\n",
      " 72.4        90.7        54.7        51.9        54.1        65.9\n",
      " 37.6        17.7        75.3        59.2        48.6        63.\n",
      " 89.4        81.2        52.1        54.         85.8        83.3\n",
      " 56.5        74.1        53.6        54.6        35.9        59.3\n",
      " 36.2        56.9        96.4        61.1        88.4        57.1\n",
      " 62.2        83.1        71.7        78.         80.5        73.9\n",
      " 55.8        91.3        57.4        73.4        60.1        77.5\n",
      " 47.9        53.3        50.6        75.2        68.8        60.\n",
      " 47.3        41.7        83.9        53.8        67.1        61.9\n",
      " 79.8        67.8        67.         66.         73.3        70.3\n",
      " 65.8        81.4        91.         56.         56.3        51.2\n",
      " 56.1        73.6        61.5        61.3        65.4        79.7\n",
      " 71.2        63.1        78.4        76.3        76.5        77.\n",
      " 65.1        72.3        72.9        44.9        90.8        79.3\n",
      " 68.6        63.05102041 66.8        75.1        48.3        88.\n",
      " 75.4        93.2        67.3        46.6        82.5        60.5\n",
      " 50.4        76.7        30.         46.3        66.1        79.9\n",
      " 92.9        83.8        74.3        72.5        52.4        33.9\n",
      " 63.5        71.1        33.4       ]\n",
      "Monetary_Freedom [76.7        81.5        74.9        55.4        60.2        77.8\n",
      " 86.6        63.         78.1        81.6        69.9        78.3\n",
      " 67.         76.1        78.7        86.4        72.6        68.8\n",
      " 83.1        78.8        75.5        76.5        88.         86.2\n",
      " 69.6        62.2        84.1        79.4        84.         77.2\n",
      " 77.22777778 82.3        84.5        71.9        75.66829268 82.8\n",
      " 49.1        82.6        83.2        74.2        78.5        65.6\n",
      " 72.7        79.7        73.5        62.3        79.         83.7\n",
      " 61.         79.6        73.7        60.8        84.8        79.1\n",
      " 80.         62.4        76.         77.9        66.3        77.\n",
      " 66.4        76.9        66.5        73.         81.8        81.7\n",
      " 72.4        77.4        60.1        87.         85.9        85.\n",
      " 70.9        82.         70.6        74.4        81.1        75.\n",
      " 68.9        84.6        65.5        78.6        81.         78.2\n",
      " 81.2        75.9        83.5        65.4        69.4        87.5\n",
      " 65.         75.4        77.7        70.         72.8        83.9\n",
      " 82.1        83.         78.4        82.7        65.1        82.2\n",
      " 70.5        85.3        83.6        86.         75.2        70.1\n",
      " 56.9        56.         85.2        84.4        68.5        70.4\n",
      " 79.5        75.1        73.4        80.1        58.6        80.9\n",
      " 76.6        72.9        58.9        70.3       ]\n",
      "Investment_Freedom [10.         70.         30.         55.         75.         80.\n",
      " 90.         60.         50.         45.         85.         20.\n",
      " 15.         65.         61.11111111 56.27906977 25.         35.\n",
      " 40.          2.          5.         95.         57.80487805]\n",
      "Population_Millions [3.55000000e+01 2.90000000e+00 4.15000000e+01 2.82000000e+01\n",
      " 4.41000000e+01 3.00000000e+00 2.48000000e+01 8.80000000e+00\n",
      " 9.80000000e+00 4.00000000e-01 1.50000000e+00 1.63200000e+02\n",
      " 3.00000000e-01 9.50000000e+00 1.14000000e+01 1.11000000e+01\n",
      " 8.00000000e-01 3.50000000e+00 2.20000000e+00 2.07700000e+02\n",
      " 7.10000000e+00 1.89000000e+01 5.26000000e+01 1.09000000e+01\n",
      " 5.00000000e-01 1.60000000e+01 2.43000000e+01 3.67000000e+01\n",
      " 5.00000000e+00 1.22000000e+01 1.84000000e+01 1.39010000e+03\n",
      " 4.93000000e+01 8.67000000e+01 4.30000000e+00 2.50000000e+01\n",
      " 1.75416667e+01 1.15000000e+01 9.00000000e-01 1.06000000e+01\n",
      " 5.70000000e+00 1.00000000e+00 1.02000000e+01 1.68000000e+01\n",
      " 9.48000000e+01 6.40000000e+00 5.90000000e+00 1.30000000e+00\n",
      " 1.10000000e+00 9.27000000e+01 5.50000000e+00 6.48000000e+01\n",
      " 1.90000000e+00 2.10000000e+00 3.70000000e+00 8.27000000e+01\n",
      " 2.83000000e+01 1.08000000e+01 1.69000000e+01 1.30000000e+01\n",
      " 1.70000000e+00 1.10000000e+01 8.30000000e+00 7.40000000e+00\n",
      " 1.31690000e+03 2.62000000e+02 8.14000000e+01 4.70000000e+00\n",
      " 8.70000000e+00 6.06000000e+01 2.80000000e+00 1.26700000e+02\n",
      " 1.82000000e+01 4.67000000e+01 5.15000000e+01 4.40000000e+00\n",
      " 6.30000000e+00 6.70000000e+00 2.00000000e+00 4.50000000e+00\n",
      " 6.00000000e-01 2.56000000e+01 1.92000000e+01 3.21000000e+01\n",
      " 3.90000000e+00 1.23500000e+02 3.10000000e+00 3.49000000e+01\n",
      " 2.95000000e+01 2.30000000e+00 2.93000000e+01 1.71000000e+01\n",
      " 4.80000000e+00 6.20000000e+00 1.88000000e+01 1.88700000e+02\n",
      " 5.30000000e+00 4.10000000e+00 1.97300000e+02 7.00000000e+00\n",
      " 3.18000000e+01 1.05300000e+02 3.80000000e+01 1.03000000e+01\n",
      " 2.70000000e+00 1.96000000e+01 1.44000000e+02 1.18000000e+01\n",
      " 2.00000000e-01 1.00000000e-01 3.24000000e+01 1.59000000e+01\n",
      " 5.60000000e+00 5.40000000e+00 5.65000000e+01 4.63000000e+01\n",
      " 2.14000000e+01 4.08000000e+01 1.01000000e+01 8.40000000e+00\n",
      " 2.36000000e+01 5.00000000e+01 6.91000000e+01 1.20000000e+00\n",
      " 7.80000000e+00 1.40000000e+00 8.08000000e+01 3.77000000e+01\n",
      " 4.23000000e+01 6.61000000e+01 3.25900000e+02 3.14000000e+01\n",
      " 9.36000000e+01 1.72000000e+01 1.49000000e+01]\n",
      "GDP_Billions_PPP [6.96000000e+01 3.60000000e+01 6.32900000e+02 1.90300000e+02\n",
      " 9.20200000e+02 2.83000000e+01 1.24650000e+03 4.39600000e+02\n",
      " 1.71800000e+02 1.16000000e+01 7.04000000e+01 6.87100000e+02\n",
      " 5.20000000e+00 1.78900000e+02 5.28500000e+02 3.20000000e+00\n",
      " 2.53000000e+01 7.00000000e+00 8.36000000e+01 4.46000000e+01\n",
      " 3.89000000e+01 3.24030000e+03 3.35000000e+01 1.53100000e+02\n",
      " 3.58000000e+01 3.28700000e+02 8.00000000e+00 3.70000000e+00\n",
      " 6.43000000e+01 8.89000000e+01 1.76930000e+03 3.40000000e+00\n",
      " 2.86000000e+01 4.51100000e+02 2.31591000e+04 7.14000000e+02\n",
      " 1.30000000e+00 6.85000000e+01 2.89000000e+01 8.39000000e+01\n",
      " 9.69000000e+01 1.01300000e+02 1.48000000e+02 3.16000000e+01\n",
      " 3.75700000e+02 2.86800000e+02 3.60000000e+00 1.72400000e+02\n",
      " 1.92600000e+02 1.20120000e+03 5.70000000e+01 3.04000000e+01\n",
      " 9.40000000e+00 4.16000000e+01 1.13000000e+01 2.00200000e+02\n",
      " 1.52770698e+03 2.44000000e+02 2.83580000e+03 3.67000000e+01\n",
      " 3.97000000e+01 4.17080000e+03 1.33700000e+02 2.98700000e+02\n",
      " 1.37800000e+02 2.65000000e+01 3.10000000e+00 6.30000000e+00\n",
      " 1.99000000e+01 4.53041667e+02 4.54900000e+02 2.89000000e+02\n",
      " 1.76000000e+01 9.45900000e+03 3.24280000e+03 1.64470000e+03\n",
      " 3.57200000e+02 3.16500000e+02 2.31090000e+03 2.61000000e+01\n",
      " 5.42880000e+03 8.91000000e+01 4.77600000e+02 1.63100000e+02\n",
      " 2.02900000e+03 2.91500000e+02 2.30000000e+01 4.92000000e+01\n",
      " 5.39000000e+01 8.77000000e+01 6.10000000e+00 9.12000000e+01\n",
      " 6.27000000e+01 7.18000000e+01 3.10000000e+01 2.24000000e+01\n",
      " 9.30800000e+02 6.90000000e+00 4.10000000e+01 1.93000000e+01\n",
      " 1.73000000e+01 2.75000000e+01 2.45840000e+03 2.01000000e+01\n",
      " 1.10000000e+01 2.98600000e+02 7.86000000e+01 9.16100000e+02\n",
      " 1.88600000e+02 3.64000000e+01 2.18000000e+01 1.11880000e+03\n",
      " 3.80000000e+02 1.86600000e+02 1.05700000e+03 4.24161111e+02\n",
      " 3.03000000e+01 6.83000000e+01 4.24400000e+02 8.75600000e+02\n",
      " 1.12100000e+03 3.13400000e+02 3.40600000e+02 4.81500000e+02\n",
      " 4.00780000e+03 2.46000000e+01 2.50000000e+00 1.10000000e+00\n",
      " 7.00000000e-01 1.77360000e+03 4.32000000e+01 1.05500000e+02\n",
      " 1.15000000e+01 5.27000000e+02 1.79400000e+02 7.11000000e+01\n",
      " 7.65600000e+02 1.77390000e+03 2.74700000e+02 1.87000000e+02\n",
      " 8.50000000e+00 5.20900000e+02 5.17200000e+02 1.18550000e+03\n",
      " 2.84000000e+01 1.62200000e+02 1.23370000e+03 6.80000000e+00\n",
      " 1.29000000e+01 6.00000000e-01 4.30000000e+01 1.35400000e+02\n",
      " 2.17320000e+03 1.03500000e+02 8.87000000e+01 3.68800000e+02\n",
      " 6.86800000e+02 2.91400000e+03 1.93906000e+04 7.81000000e+01\n",
      " 2.22600000e+02 8.00000000e-01 3.80700000e+02 6.47400000e+02\n",
      " 6.89000000e+01 3.40000000e+01]\n",
      "Unemployment_Rate [ 8.8        13.9        10.          8.2         8.7        18.2\n",
      "  5.6         5.5         5.         12.6         1.2         4.4\n",
      "  9.7         0.5         7.4         9.3         2.5         2.4\n",
      "  3.1        25.6        17.4        13.3         7.1         6.2\n",
      "  6.3         0.8         1.6        10.3         0.2         4.2\n",
      "  6.          5.9         7.          4.7         8.9         4.3\n",
      "  3.7        11.          8.1         2.6        11.2         2.9\n",
      "  5.7         5.8         3.8        12.1         4.5         6.9\n",
      "  6.4        26.4         5.2         8.6         9.4        19.7\n",
      "  9.5        11.6        21.5         2.7         6.1        12.\n",
      " 14.          2.8         3.5        12.5        14.9         4.9\n",
      " 11.5         2.1         8.37777778  0.7         6.6        27.3\n",
      "  2.         22.4         1.8         3.4         7.9         4.\n",
      "  9.9        16.1        25.         23.3         4.8         0.4\n",
      "  3.3         4.6         3.6         0.1         1.3        21.\n",
      " 18.3        13.5        14.1        17.2         4.1        12.7\n",
      "  6.7         2.2         1.1        15.4        11.3         1.7\n",
      "  7.2         7.7         7.8       ]\n",
      "Inflation_Rate [ 5.00000000e+00  2.00000000e+00  5.60000000e+00  3.17000000e+01\n",
      "  2.57000000e+01  9.00000000e-01  2.20000000e+00  1.30000000e+01\n",
      "  1.40000000e+00  5.70000000e+00  4.40000000e+00  6.00000000e+00\n",
      "  1.10000000e+00  1.00000000e-01  3.40000000e+00  2.80000000e+00\n",
      "  1.30000000e+00  3.30000000e+00 -1.00000000e-01  1.20000000e+00\n",
      "  4.00000000e-01  5.10000000e+00  1.66000000e+01  8.00000000e-01\n",
      "  2.90000000e+00  6.00000000e-01  1.60000000e+00  3.80000000e+00\n",
      " -9.00000000e-01  4.30000000e+00  1.00000000e+00  4.15000000e+01\n",
      "  5.00000000e-01  5.50000000e+00  7.00000000e-01  2.40000000e+00\n",
      "  2.35000000e+01  9.00000000e+00  3.70000000e+00  6.30000000e+00\n",
      "  9.90000000e+00  3.00000000e+00  8.00000000e+00  1.70000000e+00\n",
      "  1.24000000e+01  6.29583333e+00  2.10000000e+00  1.47000000e+01\n",
      "  3.90000000e+00  1.50000000e+00  1.80000000e+00  3.60000000e+00\n",
      "  3.00000000e-01  2.00000000e-01  7.40000000e+00  1.90000000e+00\n",
      "  3.20000000e+00  4.50000000e+00  8.10000000e+00  1.15000000e+01\n",
      "  2.30000000e+00  6.60000000e+00  4.60000000e+00  1.53000000e+01\n",
      "  6.10000000e+00  1.65000000e+01  5.20000000e+00  4.80000000e+00\n",
      "  3.10000000e+00  1.80000000e+01 -4.00000000e-01  5.30000000e+00\n",
      "  6.50000000e+00  3.24000000e+01  2.20000000e+01  7.30000000e+00\n",
      " -7.00000000e-01  3.39166667e+00  1.44000000e+01  2.98976190e+01\n",
      "  2.70000000e+00  6.20000000e+00  1.25000000e+01  1.08750000e+03\n",
      "  3.50000000e+00]\n",
      "Public_Debt_rate_GDP [7.3000000e+00 7.1200000e+01 2.5800000e+01 6.5300000e+01 5.2600000e+01\n",
      " 5.3500000e+01 4.1600000e+01 7.8800000e+01 5.4700000e+01 5.7200000e+01\n",
      " 9.0300000e+01 3.2400000e+01 1.3290000e+02 5.1000000e+01 1.0320000e+02\n",
      " 9.9000000e+01 5.4600000e+01 1.0240000e+02 5.0900000e+01 4.1000000e+01\n",
      " 1.5600000e+01 8.4000000e+01 2.7000000e+00 2.3900000e+01 3.8300000e+01\n",
      " 3.4700000e+01 5.6700000e+01 1.2600000e+02 3.5100000e+01 3.3800000e+01\n",
      " 8.9700000e+01 5.3400000e+01 5.2500000e+01 2.3600000e+01 4.7800000e+01\n",
      " 4.9400000e+01 2.8400000e+01 1.5700000e+01 1.1910000e+02 4.9100000e+01\n",
      " 4.6400000e+01 7.8400000e+01 4.7700000e+01 9.9300000e+01 3.6400000e+01\n",
      " 3.0600000e+01 3.7700000e+01 4.5000000e+01 1.0330000e+02 5.9300000e+01\n",
      " 4.2700000e+01 1.3120000e+02 8.8000000e+00 2.9200000e+01 5.6200000e+01\n",
      " 4.6600000e+01 6.1400000e+01 9.7000000e+01 6.1100000e+01 1.2320000e+02\n",
      " 4.4900000e+01 6.4100000e+01 7.1800000e+01 1.8190000e+02 2.4400000e+01\n",
      " 3.9700000e+01 4.2000000e+01 5.0700000e+01 3.1100000e+01 4.3900000e+01\n",
      " 1.0000000e-01 6.9900000e+01 4.0900000e+01 7.0200000e+01 2.8900000e+01\n",
      " 6.8500000e+01 6.1000000e+01 1.3150000e+02 1.0410000e+02 2.3640000e+02\n",
      " 9.5600000e+01 2.1200000e+01 5.5600000e+01 3.9800000e+01 2.0600000e+01\n",
      " 5.9100000e+01 6.2800000e+01 3.4800000e+01 1.5280000e+02 3.4400000e+01\n",
      " 3.6500000e+01 2.3000000e+01 0.0000000e+00 3.9300000e+01 3.7300000e+01\n",
      " 5.4200000e+01 6.8100000e+01 3.5600000e+01 5.6127907e+01 9.1100000e+01\n",
      " 6.0200000e+01 9.1400000e+01 6.7500000e+01 6.4400000e+01 1.0220000e+02\n",
      " 4.6100000e+01 2.7200000e+01 2.6400000e+01 3.3600000e+01 4.6500000e+01\n",
      " 2.3400000e+01 3.6700000e+01 4.4200000e+01 6.7200000e+01 3.8200000e+01\n",
      " 3.2600000e+01 2.5600000e+01 2.5500000e+01 3.7800000e+01 5.1400000e+01\n",
      " 1.2560000e+02 5.4000000e+01 3.6900000e+01 1.7400000e+01 4.0600000e+01\n",
      " 7.1300000e+01 8.0800000e+01 8.3300000e+01 1.7300000e+01 6.1200000e+01\n",
      " 6.1500000e+01 5.8400000e+01 1.1090000e+02 5.0400000e+01 7.5400000e+01\n",
      " 1.0000000e+01 5.2700000e+01 9.8400000e+01 7.9400000e+01 7.2100000e+01\n",
      " 4.2800000e+01 3.5200000e+01 4.1900000e+01 7.8600000e+01 4.8000000e+01\n",
      " 4.1300000e+01 2.8500000e+01 2.8800000e+01 3.9000000e+01 7.5600000e+01\n",
      " 1.9500000e+01 8.7000000e+01 1.0780000e+02 6.6200000e+01 2.4500000e+01\n",
      " 4.8400000e+01 3.4900000e+01 5.8200000e+01 6.2200000e+01]\n"
     ]
    }
   ],
   "source": [
    "# show all columns unique values\n",
    "for column in df.columns:\n",
    "    print(column, df[column].unique())"
   ]
  },
  {
   "cell_type": "code",
   "execution_count": 13,
   "id": "6d5711e1",
   "metadata": {},
   "outputs": [
    {
     "name": "stdout",
     "output_type": "stream",
     "text": [
      "Asia-Pacific\n",
      "******************\n",
      "{'Unemployment_Rate': 0.2, 'Inflation_Rate': -0.4}\n",
      "Europe\n",
      "******************\n",
      "{'Unemployment_Rate': 0.5, 'Inflation_Rate': 0.3}\n",
      "Middle East and North Africa\n",
      "******************\n",
      "{'Unemployment_Rate': 0.1, 'Inflation_Rate': -0.9}\n",
      "Sub-Saharan Africa\n",
      "******************\n",
      "{'Unemployment_Rate': 0.4, 'Inflation_Rate': -0.9}\n",
      "Americas\n",
      "******************\n",
      "{'Unemployment_Rate': 2.6, 'Inflation_Rate': 0.1}\n"
     ]
    }
   ],
   "source": [
    "# using the loop(for... in ...)\n",
    "dregion = df['Region'].unique()\n",
    "column = ['Unemployment_Rate','Inflation_Rate']\n",
    "for i in dregion :\n",
    "    print(i)\n",
    "    print(\"******************\")\n",
    "    \n",
    "    df_dregion = df.loc[(df['Region']==i)]\n",
    "    min_un = df_dregion['Unemployment_Rate'].min()\n",
    "    min_in = df_dregion['Inflation_Rate'].min()\n",
    "    Min = {'Unemployment_Rate': min_un, 'Inflation_Rate' : min_in}\n",
    "    print(Min)\n",
    "    "
   ]
  },
  {
   "cell_type": "code",
   "execution_count": 14,
   "id": "7e1e4b86",
   "metadata": {},
   "outputs": [],
   "source": [
    "#Function\n",
    "column =df[['Step_Nego', 'Gov_Spending', 'Business_Freedom', 'Monetary_Freedom']]\n",
    "def max_count(column):\n",
    "    column_max= column.max()\n",
    "    max_value= column[column_max]\n",
    "    return len(max_value)"
   ]
  },
  {
   "cell_type": "markdown",
   "id": "6c80777c",
   "metadata": {},
   "source": [
    "# Step 2 : Data Visualization"
   ]
  },
  {
   "cell_type": "code",
   "execution_count": 15,
   "id": "d8c2a74e",
   "metadata": {},
   "outputs": [],
   "source": [
    "# Bar chart\n",
    "df['Max_Inflation_Rate'] = df['Inflation_Rate'].max()"
   ]
  },
  {
   "cell_type": "code",
   "execution_count": 16,
   "id": "8911deff",
   "metadata": {},
   "outputs": [],
   "source": [
    "df ['avg_Unin'] = df[['Unemployment_Rate', 'Max_Inflation_Rate']].mean(1)"
   ]
  },
  {
   "cell_type": "code",
   "execution_count": 17,
   "id": "e5ae3f87",
   "metadata": {},
   "outputs": [
    {
     "data": {
      "text/html": [
       "<div>\n",
       "<style scoped>\n",
       "    .dataframe tbody tr th:only-of-type {\n",
       "        vertical-align: middle;\n",
       "    }\n",
       "\n",
       "    .dataframe tbody tr th {\n",
       "        vertical-align: top;\n",
       "    }\n",
       "\n",
       "    .dataframe thead th {\n",
       "        text-align: right;\n",
       "    }\n",
       "</style>\n",
       "<table border=\"1\" class=\"dataframe\">\n",
       "  <thead>\n",
       "    <tr style=\"text-align: right;\">\n",
       "      <th></th>\n",
       "      <th>avg_Unin</th>\n",
       "    </tr>\n",
       "    <tr>\n",
       "      <th>Region</th>\n",
       "      <th></th>\n",
       "    </tr>\n",
       "  </thead>\n",
       "  <tbody>\n",
       "    <tr>\n",
       "      <th>Americas</th>\n",
       "      <td>547.650000</td>\n",
       "    </tr>\n",
       "    <tr>\n",
       "      <th>Asia-Pacific</th>\n",
       "      <td>545.808472</td>\n",
       "    </tr>\n",
       "    <tr>\n",
       "      <th>Europe</th>\n",
       "      <td>548.136047</td>\n",
       "    </tr>\n",
       "    <tr>\n",
       "      <th>Middle East and North Africa</th>\n",
       "      <td>547.285714</td>\n",
       "    </tr>\n",
       "    <tr>\n",
       "      <th>Sub-Saharan Africa</th>\n",
       "      <td>547.983696</td>\n",
       "    </tr>\n",
       "  </tbody>\n",
       "</table>\n",
       "</div>"
      ],
      "text/plain": [
       "                                avg_Unin\n",
       "Region                                  \n",
       "Americas                      547.650000\n",
       "Asia-Pacific                  545.808472\n",
       "Europe                        548.136047\n",
       "Middle East and North Africa  547.285714\n",
       "Sub-Saharan Africa            547.983696"
      ]
     },
     "execution_count": 17,
     "metadata": {},
     "output_type": "execute_result"
    }
   ],
   "source": [
    "graph1 = pd.pivot_table(df,index=['Region'],\n",
    "                       values = ['avg_Unin'])\n",
    "graph1"
   ]
  },
  {
   "cell_type": "code",
   "execution_count": 18,
   "id": "5f91c5b6",
   "metadata": {},
   "outputs": [
    {
     "data": {
      "text/html": [
       "<div>\n",
       "<style scoped>\n",
       "    .dataframe tbody tr th:only-of-type {\n",
       "        vertical-align: middle;\n",
       "    }\n",
       "\n",
       "    .dataframe tbody tr th {\n",
       "        vertical-align: top;\n",
       "    }\n",
       "\n",
       "    .dataframe thead th {\n",
       "        text-align: right;\n",
       "    }\n",
       "</style>\n",
       "<table border=\"1\" class=\"dataframe\">\n",
       "  <thead>\n",
       "    <tr style=\"text-align: right;\">\n",
       "      <th></th>\n",
       "      <th>Region</th>\n",
       "      <th>avg_Unin</th>\n",
       "    </tr>\n",
       "  </thead>\n",
       "  <tbody>\n",
       "    <tr>\n",
       "      <th>0</th>\n",
       "      <td>Americas</td>\n",
       "      <td>547.650000</td>\n",
       "    </tr>\n",
       "    <tr>\n",
       "      <th>1</th>\n",
       "      <td>Asia-Pacific</td>\n",
       "      <td>545.808472</td>\n",
       "    </tr>\n",
       "    <tr>\n",
       "      <th>2</th>\n",
       "      <td>Europe</td>\n",
       "      <td>548.136047</td>\n",
       "    </tr>\n",
       "    <tr>\n",
       "      <th>3</th>\n",
       "      <td>Middle East and North Africa</td>\n",
       "      <td>547.285714</td>\n",
       "    </tr>\n",
       "    <tr>\n",
       "      <th>4</th>\n",
       "      <td>Sub-Saharan Africa</td>\n",
       "      <td>547.983696</td>\n",
       "    </tr>\n",
       "  </tbody>\n",
       "</table>\n",
       "</div>"
      ],
      "text/plain": [
       "                         Region    avg_Unin\n",
       "0                      Americas  547.650000\n",
       "1                  Asia-Pacific  545.808472\n",
       "2                        Europe  548.136047\n",
       "3  Middle East and North Africa  547.285714\n",
       "4            Sub-Saharan Africa  547.983696"
      ]
     },
     "execution_count": 18,
     "metadata": {},
     "output_type": "execute_result"
    }
   ],
   "source": [
    "graph1 =graph1.reset_index()\n",
    "graph1"
   ]
  },
  {
   "cell_type": "code",
   "execution_count": 19,
   "id": "eaa89a24",
   "metadata": {},
   "outputs": [
    {
     "data": {
      "text/plain": [
       "Text(0.5, 1.0, 'Average of Unemployment Rate and max_Inflation Rate by Region')"
      ]
     },
     "execution_count": 19,
     "metadata": {},
     "output_type": "execute_result"
    },
    {
     "data": {
      "image/png": "[encoded data removed]",
      "text/plain": [
       "<Figure size 432x288 with 1 Axes>"
      ]
     },
     "metadata": {
      "needs_background": "light"
     },
     "output_type": "display_data"
    }
   ],
   "source": [
    "graph1.plot(x='Region', y='avg_Unin', kind='bar')\n",
    "plt.title('Average of Unemployment Rate and max_Inflation Rate by Region')"
   ]
  },
  {
   "cell_type": "code",
   "execution_count": 20,
   "id": "1a0fd1ef",
   "metadata": {},
   "outputs": [
    {
     "data": {
      "text/html": [
       "<div>\n",
       "<style scoped>\n",
       "    .dataframe tbody tr th:only-of-type {\n",
       "        vertical-align: middle;\n",
       "    }\n",
       "\n",
       "    .dataframe tbody tr th {\n",
       "        vertical-align: top;\n",
       "    }\n",
       "\n",
       "    .dataframe thead th {\n",
       "        text-align: right;\n",
       "    }\n",
       "</style>\n",
       "<table border=\"1\" class=\"dataframe\">\n",
       "  <thead>\n",
       "    <tr style=\"text-align: right;\">\n",
       "      <th></th>\n",
       "      <th>Step_Nego</th>\n",
       "      <th>Gov_Spending</th>\n",
       "    </tr>\n",
       "  </thead>\n",
       "  <tbody>\n",
       "    <tr>\n",
       "      <th>0</th>\n",
       "      <td>Step1</td>\n",
       "      <td>95.6</td>\n",
       "    </tr>\n",
       "    <tr>\n",
       "      <th>1</th>\n",
       "      <td>Step2</td>\n",
       "      <td>91.4</td>\n",
       "    </tr>\n",
       "    <tr>\n",
       "      <th>2</th>\n",
       "      <td>Step3</td>\n",
       "      <td>96.6</td>\n",
       "    </tr>\n",
       "    <tr>\n",
       "      <th>3</th>\n",
       "      <td>Step4</td>\n",
       "      <td>96.5</td>\n",
       "    </tr>\n",
       "  </tbody>\n",
       "</table>\n",
       "</div>"
      ],
      "text/plain": [
       "  Step_Nego  Gov_Spending\n",
       "0     Step1          95.6\n",
       "1     Step2          91.4\n",
       "2     Step3          96.6\n",
       "3     Step4          96.5"
      ]
     },
     "execution_count": 20,
     "metadata": {},
     "output_type": "execute_result"
    }
   ],
   "source": [
    "# pie chart\n",
    "max_spend=df.groupby('Step_Nego')['Gov_Spending'].max().reset_index()\n",
    "max_spend"
   ]
  },
  {
   "cell_type": "code",
   "execution_count": 21,
   "id": "bdb12880",
   "metadata": {},
   "outputs": [
    {
     "data": {
      "image/png": "[encoded data removed]",
      "text/plain": [
       "<Figure size 1080x576 with 1 Axes>"
      ]
     },
     "metadata": {},
     "output_type": "display_data"
    }
   ],
   "source": [
    "max_spend['Gov_Spending'].plot(kind='pie',\n",
    "                            figsize=(15, 8),\n",
    "                            autopct='%1.1f%%', # add in percentages\n",
    "                            startangle=120,     # start angle 90° (Africa)\n",
    "                            labels = max_spend['Step_Nego'],\n",
    "                            shadow=True,       # add shadow      \n",
    "                            )\n",
    " \n",
    "plt.title('Max Gov Spending by Step Nego' )\n",
    "plt.axis('equal') # Sets the pie chart to look like a circle.\n",
    " \n",
    "plt.show()"
   ]
  },
  {
   "cell_type": "code",
   "execution_count": 22,
   "id": "b88cb2f6",
   "metadata": {},
   "outputs": [
    {
     "data": {
      "text/html": [
       "<div>\n",
       "<style scoped>\n",
       "    .dataframe tbody tr th:only-of-type {\n",
       "        vertical-align: middle;\n",
       "    }\n",
       "\n",
       "    .dataframe tbody tr th {\n",
       "        vertical-align: top;\n",
       "    }\n",
       "\n",
       "    .dataframe thead th {\n",
       "        text-align: right;\n",
       "    }\n",
       "</style>\n",
       "<table border=\"1\" class=\"dataframe\">\n",
       "  <thead>\n",
       "    <tr style=\"text-align: right;\">\n",
       "      <th></th>\n",
       "      <th>Country</th>\n",
       "      <th>Public_Debt_rate_GDP</th>\n",
       "    </tr>\n",
       "  </thead>\n",
       "  <tbody>\n",
       "    <tr>\n",
       "      <th>0</th>\n",
       "      <td>Afghanistan</td>\n",
       "      <td>7.3</td>\n",
       "    </tr>\n",
       "    <tr>\n",
       "      <th>1</th>\n",
       "      <td>Albania</td>\n",
       "      <td>71.2</td>\n",
       "    </tr>\n",
       "    <tr>\n",
       "      <th>2</th>\n",
       "      <td>Algeria</td>\n",
       "      <td>25.8</td>\n",
       "    </tr>\n",
       "    <tr>\n",
       "      <th>3</th>\n",
       "      <td>Angola</td>\n",
       "      <td>65.3</td>\n",
       "    </tr>\n",
       "    <tr>\n",
       "      <th>4</th>\n",
       "      <td>Argentina</td>\n",
       "      <td>52.6</td>\n",
       "    </tr>\n",
       "    <tr>\n",
       "      <th>...</th>\n",
       "      <td>...</td>\n",
       "      <td>...</td>\n",
       "    </tr>\n",
       "    <tr>\n",
       "      <th>169</th>\n",
       "      <td>Vanuatu</td>\n",
       "      <td>48.4</td>\n",
       "    </tr>\n",
       "    <tr>\n",
       "      <th>170</th>\n",
       "      <td>Venezuela</td>\n",
       "      <td>34.9</td>\n",
       "    </tr>\n",
       "    <tr>\n",
       "      <th>171</th>\n",
       "      <td>Vietnam</td>\n",
       "      <td>58.2</td>\n",
       "    </tr>\n",
       "    <tr>\n",
       "      <th>172</th>\n",
       "      <td>Zambia</td>\n",
       "      <td>62.2</td>\n",
       "    </tr>\n",
       "    <tr>\n",
       "      <th>173</th>\n",
       "      <td>Zimbabwe</td>\n",
       "      <td>78.4</td>\n",
       "    </tr>\n",
       "  </tbody>\n",
       "</table>\n",
       "<p>174 rows × 2 columns</p>\n",
       "</div>"
      ],
      "text/plain": [
       "         Country  Public_Debt_rate_GDP\n",
       "0    Afghanistan                   7.3\n",
       "1        Albania                  71.2\n",
       "2        Algeria                  25.8\n",
       "3         Angola                  65.3\n",
       "4      Argentina                  52.6\n",
       "..           ...                   ...\n",
       "169      Vanuatu                  48.4\n",
       "170    Venezuela                  34.9\n",
       "171      Vietnam                  58.2\n",
       "172       Zambia                  62.2\n",
       "173     Zimbabwe                  78.4\n",
       "\n",
       "[174 rows x 2 columns]"
      ]
     },
     "execution_count": 22,
     "metadata": {},
     "output_type": "execute_result"
    }
   ],
   "source": [
    "#histogram\n",
    "Each_GDP=df[['Country','Public_Debt_rate_GDP']]\n",
    "Each_GDP"
   ]
  },
  {
   "cell_type": "code",
   "execution_count": 23,
   "id": "8198daa4",
   "metadata": {},
   "outputs": [
    {
     "data": {
      "image/png": "[encoded data removed]",
      "text/plain": [
       "<Figure size 432x288 with 1 Axes>"
      ]
     },
     "metadata": {
      "needs_background": "light"
     },
     "output_type": "display_data"
    }
   ],
   "source": [
    "dgdp = df ['Public_Debt_rate_GDP'].tolist()\n",
    "\n",
    "Public_Debt_rate_GDP = [40, 80, 120, 160, 200]\n",
    "\n",
    "plt.hist(dgdp, Public_Debt_rate_GDP, label = 'Public_Debt_rate_GDP')\n",
    "\n",
    "plt.xlabel('Public_Debt_rate_GDP')\n",
    "plt.ylabel('Frequencies')\n",
    "plt.legend(loc='upper left')\n",
    "plt.xticks(Public_Debt_rate_GDP)\n",
    "plt.title('Public_Debt_rate_GDP')\n",
    "plt.show()"
   ]
  },
  {
   "cell_type": "code",
   "execution_count": 24,
   "id": "5b7d0ce6",
   "metadata": {},
   "outputs": [
    {
     "name": "stderr",
     "output_type": "stream",
     "text": [
      "C:\\Users\\user\\AppData\\Local\\Temp\\ipykernel_19144\\1721072871.py:1: SettingWithCopyWarning: \n",
      "A value is trying to be set on a copy of a slice from a DataFrame\n",
      "\n",
      "See the caveats in the documentation: https://pandas.pydata.org/pandas-docs/stable/user_guide/indexing.html#returning-a-view-versus-a-copy\n",
      "  df.Step_Nego[df.Step_Nego == 'Step1'] = 5\n",
      "C:\\Users\\user\\AppData\\Local\\Temp\\ipykernel_19144\\1721072871.py:2: SettingWithCopyWarning: \n",
      "A value is trying to be set on a copy of a slice from a DataFrame\n",
      "\n",
      "See the caveats in the documentation: https://pandas.pydata.org/pandas-docs/stable/user_guide/indexing.html#returning-a-view-versus-a-copy\n",
      "  df.Step_Nego[df.Step_Nego == 'Step2'] = 5\n",
      "C:\\Users\\user\\AppData\\Local\\Temp\\ipykernel_19144\\1721072871.py:3: SettingWithCopyWarning: \n",
      "A value is trying to be set on a copy of a slice from a DataFrame\n",
      "\n",
      "See the caveats in the documentation: https://pandas.pydata.org/pandas-docs/stable/user_guide/indexing.html#returning-a-view-versus-a-copy\n",
      "  df.Step_Nego[df.Step_Nego == 'Step3'] = 10\n",
      "C:\\Users\\user\\AppData\\Local\\Temp\\ipykernel_19144\\1721072871.py:4: SettingWithCopyWarning: \n",
      "A value is trying to be set on a copy of a slice from a DataFrame\n",
      "\n",
      "See the caveats in the documentation: https://pandas.pydata.org/pandas-docs/stable/user_guide/indexing.html#returning-a-view-versus-a-copy\n",
      "  df.Step_Nego[df.Step_Nego == 'Step4'] = 10\n"
     ]
    }
   ],
   "source": [
    "df.Step_Nego[df.Step_Nego == 'Step1'] = 5\n",
    "df.Step_Nego[df.Step_Nego == 'Step2'] = 5\n",
    "df.Step_Nego[df.Step_Nego == 'Step3'] = 10\n",
    "df.Step_Nego[df.Step_Nego == 'Step4'] = 10"
   ]
  },
  {
   "cell_type": "code",
   "execution_count": 25,
   "id": "f55e3e6f",
   "metadata": {},
   "outputs": [],
   "source": [
    "df['Step_IndexValue'] =df['Step_Nego']"
   ]
  },
  {
   "cell_type": "code",
   "execution_count": null,
   "id": "6e46cfe6",
   "metadata": {},
   "outputs": [],
   "source": []
  },
  {
   "cell_type": "code",
   "execution_count": 26,
   "id": "8a12c1df",
   "metadata": {},
   "outputs": [],
   "source": [
    "df['Business_IndexValue'] = df['Gov_Spending']*(df['Step_IndexValue']+df['Public_Debt_rate_GDP'])\n",
    "df['Freedom_IndexValue'] = df['Business_Freedom'] + df['Monetary_Freedom'] + df['Investment_Freedom'] * (1+df['Step_IndexValue'])"
   ]
  },
  {
   "cell_type": "code",
   "execution_count": 27,
   "id": "e19e8581",
   "metadata": {},
   "outputs": [
    {
     "data": {
      "text/plain": [
       "0       24032.987\n",
       "1      429095.916\n",
       "2       62415.868\n",
       "3      457576.263\n",
       "4       164229.12\n",
       "          ...    \n",
       "169    154269.396\n",
       "170     92495.781\n",
       "171    295973.184\n",
       "172    417548.484\n",
       "173     582184.72\n",
       "Name: IMF_Index, Length: 174, dtype: object"
      ]
     },
     "execution_count": 27,
     "metadata": {},
     "output_type": "execute_result"
    }
   ],
   "source": [
    "df['IMF_Index'] = df['Business_IndexValue'] * (df['Step_IndexValue'] + df['Public_Debt_rate_GDP'])\n",
    "df['IMF_Index']"
   ]
  },
  {
   "cell_type": "code",
   "execution_count": 59,
   "id": "50217384",
   "metadata": {},
   "outputs": [
    {
     "name": "stderr",
     "output_type": "stream",
     "text": [
      "C:\\Users\\user\\AppData\\Local\\Temp\\ipykernel_19144\\2052116081.py:2: SettingWithCopyWarning: \n",
      "A value is trying to be set on a copy of a slice from a DataFrame.\n",
      "Try using .loc[row_indexer,col_indexer] = value instead\n",
      "\n",
      "See the caveats in the documentation: https://pandas.pydata.org/pandas-docs/stable/user_guide/indexing.html#returning-a-view-versus-a-copy\n",
      "  IMF['IMF_Index'] = IMF['IMF_Index'].astype(int)\n"
     ]
    },
    {
     "data": {
      "text/html": [
       "<div>\n",
       "<style scoped>\n",
       "    .dataframe tbody tr th:only-of-type {\n",
       "        vertical-align: middle;\n",
       "    }\n",
       "\n",
       "    .dataframe tbody tr th {\n",
       "        vertical-align: top;\n",
       "    }\n",
       "\n",
       "    .dataframe thead th {\n",
       "        text-align: right;\n",
       "    }\n",
       "</style>\n",
       "<table border=\"1\" class=\"dataframe\">\n",
       "  <thead>\n",
       "    <tr style=\"text-align: right;\">\n",
       "      <th></th>\n",
       "      <th>Country</th>\n",
       "      <th>Region</th>\n",
       "      <th>IMF_Nigo</th>\n",
       "      <th>Step_Nego</th>\n",
       "      <th>IMF_Index</th>\n",
       "    </tr>\n",
       "  </thead>\n",
       "  <tbody>\n",
       "    <tr>\n",
       "      <th>0</th>\n",
       "      <td>Afghanistan</td>\n",
       "      <td>Asia-Pacific</td>\n",
       "      <td>0</td>\n",
       "      <td>10</td>\n",
       "      <td>24032</td>\n",
       "    </tr>\n",
       "    <tr>\n",
       "      <th>1</th>\n",
       "      <td>Albania</td>\n",
       "      <td>Europe</td>\n",
       "      <td>1</td>\n",
       "      <td>5</td>\n",
       "      <td>429095</td>\n",
       "    </tr>\n",
       "    <tr>\n",
       "      <th>2</th>\n",
       "      <td>Algeria</td>\n",
       "      <td>Middle East and North Africa</td>\n",
       "      <td>0</td>\n",
       "      <td>10</td>\n",
       "      <td>62415</td>\n",
       "    </tr>\n",
       "    <tr>\n",
       "      <th>3</th>\n",
       "      <td>Angola</td>\n",
       "      <td>Sub-Saharan Africa</td>\n",
       "      <td>0</td>\n",
       "      <td>10</td>\n",
       "      <td>457576</td>\n",
       "    </tr>\n",
       "    <tr>\n",
       "      <th>4</th>\n",
       "      <td>Argentina</td>\n",
       "      <td>Americas</td>\n",
       "      <td>0</td>\n",
       "      <td>5</td>\n",
       "      <td>164229</td>\n",
       "    </tr>\n",
       "  </tbody>\n",
       "</table>\n",
       "</div>"
      ],
      "text/plain": [
       "       Country                        Region  IMF_Nigo Step_Nego  IMF_Index\n",
       "0  Afghanistan                  Asia-Pacific         0        10      24032\n",
       "1      Albania                        Europe         1         5     429095\n",
       "2      Algeria  Middle East and North Africa         0        10      62415\n",
       "3       Angola            Sub-Saharan Africa         0        10     457576\n",
       "4    Argentina                      Americas         0         5     164229"
      ]
     },
     "execution_count": 59,
     "metadata": {},
     "output_type": "execute_result"
    }
   ],
   "source": [
    "IMF = df[['Country', 'Region', 'IMF_Nigo', 'Step_Nego','IMF_Index',]]\n",
    "IMF['IMF_Index'] = IMF['IMF_Index'].astype(int)\n",
    "IMF.head()"
   ]
  },
  {
   "cell_type": "code",
   "execution_count": 29,
   "id": "24c205c8",
   "metadata": {},
   "outputs": [
    {
     "ename": "TypeError",
     "evalue": "Column 'IMF_Index' has dtype object, cannot use method 'nlargest' with this dtype",
     "output_type": "error",
     "traceback": [
      "\u001b[1;31m---------------------------------------------------------------------------\u001b[0m",
      "\u001b[1;31mTypeError\u001b[0m                                 Traceback (most recent call last)",
      "Input \u001b[1;32mIn [29]\u001b[0m, in \u001b[0;36m<cell line: 1>\u001b[1;34m()\u001b[0m\n\u001b[1;32m----> 1\u001b[0m \u001b[43mIMF\u001b[49m\u001b[38;5;241;43m.\u001b[39;49m\u001b[43msort_values\u001b[49m\u001b[43m(\u001b[49m\u001b[43mby\u001b[49m\u001b[38;5;241;43m=\u001b[39;49m\u001b[43m[\u001b[49m\u001b[38;5;124;43m'\u001b[39;49m\u001b[38;5;124;43mIMF_Index\u001b[39;49m\u001b[38;5;124;43m'\u001b[39;49m\u001b[43m]\u001b[49m\u001b[43m)\u001b[49m\u001b[38;5;241;43m.\u001b[39;49m\u001b[43mnlargest\u001b[49m\u001b[43m(\u001b[49m\u001b[43mn\u001b[49m\u001b[38;5;241;43m=\u001b[39;49m\u001b[38;5;241;43m5\u001b[39;49m\u001b[43m,\u001b[49m\u001b[43m \u001b[49m\u001b[43mcolumns\u001b[49m\u001b[38;5;241;43m=\u001b[39;49m\u001b[43m[\u001b[49m\u001b[38;5;124;43m'\u001b[39;49m\u001b[38;5;124;43mIMF_Index\u001b[39;49m\u001b[38;5;124;43m'\u001b[39;49m\u001b[43m]\u001b[49m\u001b[43m)\u001b[49m\n",
      "File \u001b[1;32m~\\anaconda3\\lib\\site-packages\\pandas\\core\\frame.py:6690\u001b[0m, in \u001b[0;36mDataFrame.nlargest\u001b[1;34m(self, n, columns, keep)\u001b[0m\n\u001b[0;32m   6585\u001b[0m \u001b[38;5;28;01mdef\u001b[39;00m \u001b[38;5;21mnlargest\u001b[39m(\u001b[38;5;28mself\u001b[39m, n: \u001b[38;5;28mint\u001b[39m, columns: IndexLabel, keep: \u001b[38;5;28mstr\u001b[39m \u001b[38;5;241m=\u001b[39m \u001b[38;5;124m\"\u001b[39m\u001b[38;5;124mfirst\u001b[39m\u001b[38;5;124m\"\u001b[39m) \u001b[38;5;241m-\u001b[39m\u001b[38;5;241m>\u001b[39m DataFrame:\n\u001b[0;32m   6586\u001b[0m     \u001b[38;5;124;03m\"\"\"\u001b[39;00m\n\u001b[0;32m   6587\u001b[0m \u001b[38;5;124;03m    Return the first `n` rows ordered by `columns` in descending order.\u001b[39;00m\n\u001b[0;32m   6588\u001b[0m \n\u001b[1;32m   (...)\u001b[0m\n\u001b[0;32m   6688\u001b[0m \u001b[38;5;124;03m    Brunei      434000    12128      BN\u001b[39;00m\n\u001b[0;32m   6689\u001b[0m \u001b[38;5;124;03m    \"\"\"\u001b[39;00m\n\u001b[1;32m-> 6690\u001b[0m     \u001b[38;5;28;01mreturn\u001b[39;00m \u001b[43malgorithms\u001b[49m\u001b[38;5;241;43m.\u001b[39;49m\u001b[43mSelectNFrame\u001b[49m\u001b[43m(\u001b[49m\u001b[38;5;28;43mself\u001b[39;49m\u001b[43m,\u001b[49m\u001b[43m \u001b[49m\u001b[43mn\u001b[49m\u001b[38;5;241;43m=\u001b[39;49m\u001b[43mn\u001b[49m\u001b[43m,\u001b[49m\u001b[43m \u001b[49m\u001b[43mkeep\u001b[49m\u001b[38;5;241;43m=\u001b[39;49m\u001b[43mkeep\u001b[49m\u001b[43m,\u001b[49m\u001b[43m \u001b[49m\u001b[43mcolumns\u001b[49m\u001b[38;5;241;43m=\u001b[39;49m\u001b[43mcolumns\u001b[49m\u001b[43m)\u001b[49m\u001b[38;5;241;43m.\u001b[39;49m\u001b[43mnlargest\u001b[49m\u001b[43m(\u001b[49m\u001b[43m)\u001b[49m\n",
      "File \u001b[1;32m~\\anaconda3\\lib\\site-packages\\pandas\\core\\algorithms.py:1137\u001b[0m, in \u001b[0;36mSelectN.nlargest\u001b[1;34m(self)\u001b[0m\n\u001b[0;32m   1135\u001b[0m \u001b[38;5;129m@final\u001b[39m\n\u001b[0;32m   1136\u001b[0m \u001b[38;5;28;01mdef\u001b[39;00m \u001b[38;5;21mnlargest\u001b[39m(\u001b[38;5;28mself\u001b[39m):\n\u001b[1;32m-> 1137\u001b[0m     \u001b[38;5;28;01mreturn\u001b[39;00m \u001b[38;5;28;43mself\u001b[39;49m\u001b[38;5;241;43m.\u001b[39;49m\u001b[43mcompute\u001b[49m\u001b[43m(\u001b[49m\u001b[38;5;124;43m\"\u001b[39;49m\u001b[38;5;124;43mnlargest\u001b[39;49m\u001b[38;5;124;43m\"\u001b[39;49m\u001b[43m)\u001b[49m\n",
      "File \u001b[1;32m~\\anaconda3\\lib\\site-packages\\pandas\\core\\algorithms.py:1276\u001b[0m, in \u001b[0;36mSelectNFrame.compute\u001b[1;34m(self, method)\u001b[0m\n\u001b[0;32m   1274\u001b[0m     dtype \u001b[38;5;241m=\u001b[39m frame[column]\u001b[38;5;241m.\u001b[39mdtype\n\u001b[0;32m   1275\u001b[0m     \u001b[38;5;28;01mif\u001b[39;00m \u001b[38;5;129;01mnot\u001b[39;00m \u001b[38;5;28mself\u001b[39m\u001b[38;5;241m.\u001b[39mis_valid_dtype_n_method(dtype):\n\u001b[1;32m-> 1276\u001b[0m         \u001b[38;5;28;01mraise\u001b[39;00m \u001b[38;5;167;01mTypeError\u001b[39;00m(\n\u001b[0;32m   1277\u001b[0m             \u001b[38;5;124mf\u001b[39m\u001b[38;5;124m\"\u001b[39m\u001b[38;5;124mColumn \u001b[39m\u001b[38;5;132;01m{\u001b[39;00m\u001b[38;5;28mrepr\u001b[39m(column)\u001b[38;5;132;01m}\u001b[39;00m\u001b[38;5;124m has dtype \u001b[39m\u001b[38;5;132;01m{\u001b[39;00mdtype\u001b[38;5;132;01m}\u001b[39;00m\u001b[38;5;124m, \u001b[39m\u001b[38;5;124m\"\u001b[39m\n\u001b[0;32m   1278\u001b[0m             \u001b[38;5;124mf\u001b[39m\u001b[38;5;124m\"\u001b[39m\u001b[38;5;124mcannot use method \u001b[39m\u001b[38;5;132;01m{\u001b[39;00m\u001b[38;5;28mrepr\u001b[39m(method)\u001b[38;5;132;01m}\u001b[39;00m\u001b[38;5;124m with this dtype\u001b[39m\u001b[38;5;124m\"\u001b[39m\n\u001b[0;32m   1279\u001b[0m         )\n\u001b[0;32m   1281\u001b[0m \u001b[38;5;28;01mdef\u001b[39;00m \u001b[38;5;21mget_indexer\u001b[39m(current_indexer, other_indexer):\n\u001b[0;32m   1282\u001b[0m     \u001b[38;5;124;03m\"\"\"\u001b[39;00m\n\u001b[0;32m   1283\u001b[0m \u001b[38;5;124;03m    Helper function to concat `current_indexer` and `other_indexer`\u001b[39;00m\n\u001b[0;32m   1284\u001b[0m \u001b[38;5;124;03m    depending on `method`\u001b[39;00m\n\u001b[0;32m   1285\u001b[0m \u001b[38;5;124;03m    \"\"\"\u001b[39;00m\n",
      "\u001b[1;31mTypeError\u001b[0m: Column 'IMF_Index' has dtype object, cannot use method 'nlargest' with this dtype"
     ]
    }
   ],
   "source": [
    "IMF.sort_values(by=['IMF_Index']).nlargest(n=5, columns=['IMF_Index'])"
   ]
  },
  {
   "cell_type": "markdown",
   "id": "34c3a498",
   "metadata": {},
   "source": [
    "# Step 3 Build the Model"
   ]
  },
  {
   "cell_type": "code",
   "execution_count": 31,
   "id": "dda6d8e9",
   "metadata": {},
   "outputs": [],
   "source": [
    "# Supervised Machine Learning\n",
    "from sklearn.linear_model import LinearRegression\n",
    "from sklearn.model_selection import train_test_split\n",
    "from sklearn.linear_model import LogisticRegression\n",
    "from sklearn import metrics\n",
    "import seaborn as sn"
   ]
  },
  {
   "cell_type": "code",
   "execution_count": 32,
   "id": "9a58a071",
   "metadata": {},
   "outputs": [],
   "source": [
    "X = df[['Business_Freedom','Monetary_Freedom','Investment_Freedom','Unemployment_Rate'\n",
    "        ,'Inflation_Rate','Public_Debt_rate_GDP']]\n",
    "y = df[\"IMF_Nigo\"]"
   ]
  },
  {
   "cell_type": "code",
   "execution_count": 33,
   "id": "d833569e",
   "metadata": {},
   "outputs": [],
   "source": [
    "X_train,X_test,y_train,y_test = train_test_split(X,y,test_size=0.25,random_state=0)"
   ]
  },
  {
   "cell_type": "code",
   "execution_count": 34,
   "id": "cf9d26c7",
   "metadata": {},
   "outputs": [],
   "source": [
    "logistic_regression= LogisticRegression()\n",
    "logistic_regression.fit(X_train,y_train)\n",
    "y_pred=logistic_regression.predict(X_test)"
   ]
  },
  {
   "cell_type": "code",
   "execution_count": 35,
   "id": "6d008d9d",
   "metadata": {},
   "outputs": [
    {
     "data": {
      "text/plain": [
       "<AxesSubplot:xlabel='Predicted', ylabel='Actual'>"
      ]
     },
     "execution_count": 35,
     "metadata": {},
     "output_type": "execute_result"
    },
    {
     "data": {
      "image/png": "[encoded data removed]",
      "text/plain": [
       "<Figure size 432x288 with 2 Axes>"
      ]
     },
     "metadata": {
      "needs_background": "light"
     },
     "output_type": "display_data"
    }
   ],
   "source": [
    "confusion_matrix = pd.crosstab(y_test, y_pred, rownames=['Actual'], colnames=['Predicted'])\n",
    "sn.heatmap(confusion_matrix, annot=True)"
   ]
  },
  {
   "cell_type": "code",
   "execution_count": 36,
   "id": "c056fa95",
   "metadata": {},
   "outputs": [
    {
     "name": "stdout",
     "output_type": "stream",
     "text": [
      "Accuracy:  0.7954545454545454\n"
     ]
    }
   ],
   "source": [
    "print('Accuracy: ',metrics.accuracy_score(y_test, y_pred))"
   ]
  },
  {
   "cell_type": "code",
   "execution_count": 37,
   "id": "84a99a5f",
   "metadata": {},
   "outputs": [
    {
     "name": "stdout",
     "output_type": "stream",
     "text": [
      "     Business_Freedom  Monetary_Freedom  Investment_Freedom  \\\n",
      "54           59.20000         73.700000           50.000000   \n",
      "147          52.10000         56.900000            5.000000   \n",
      "63           56.50000         66.300000           70.000000   \n",
      "55           48.60000         60.800000           35.000000   \n",
      "122          62.20000         70.000000           25.000000   \n",
      "101          53.80000         81.600000           65.000000   \n",
      "7            74.90000         81.500000           90.000000   \n",
      "156          50.40000         79.100000           65.000000   \n",
      "130          78.40000         65.100000           30.000000   \n",
      "89           77.50000         81.100000           85.000000   \n",
      "139          44.90000         65.000000           60.000000   \n",
      "144          63.05102         75.200000           45.000000   \n",
      "5            78.30000         77.800000           75.000000   \n",
      "97           47.30000         72.400000           55.000000   \n",
      "164          79.90000         80.900000           40.000000   \n",
      "93           75.20000         84.600000           80.000000   \n",
      "33           76.60000         84.500000           85.000000   \n",
      "18           58.80000         68.800000           15.000000   \n",
      "61           85.80000         76.000000           80.000000   \n",
      "51           37.60000         83.700000           40.000000   \n",
      "66           54.60000         66.400000           50.000000   \n",
      "37           53.20000         49.100000           30.000000   \n",
      "4            56.40000         60.200000           55.000000   \n",
      "124          67.80000         83.900000           75.000000   \n",
      "60           54.00000         62.400000           65.000000   \n",
      "110          57.10000         65.400000           35.000000   \n",
      "125          61.30000         69.600000           60.000000   \n",
      "151          93.20000         84.400000           60.000000   \n",
      "111          65.80000         74.400000           65.000000   \n",
      "160          66.00000         70.000000           70.000000   \n",
      "26           50.30000         62.200000           50.000000   \n",
      "56           63.00000         73.500000           55.000000   \n",
      "136          72.30000         78.100000           45.000000   \n",
      "45           90.70000         84.100000           90.000000   \n",
      "8            69.50000         63.000000           60.000000   \n",
      "44           72.40000         81.500000           80.000000   \n",
      "80           78.00000         82.600000           80.000000   \n",
      "108          73.30000         81.600000           75.000000   \n",
      "98           41.70000         65.500000           50.000000   \n",
      "170          33.90000         75.668293           57.804878   \n",
      "24           51.60000         86.200000           65.000000   \n",
      "30           81.90000         77.200000           80.000000   \n",
      "92           50.60000         68.900000           55.000000   \n",
      "112          61.80000         69.400000           10.000000   \n",
      "\n",
      "     Unemployment_Rate  Inflation_Rate  Public_Debt_rate_GDP  \n",
      "54                26.4        6.300000                  29.2  \n",
      "147               12.7       32.400000                 126.0  \n",
      "63                 2.4       12.400000                  71.8  \n",
      "55                 5.2        9.900000                  56.2  \n",
      "122                2.7        5.200000                  32.6  \n",
      "101                7.9        1.800000                  35.6  \n",
      "7                  5.5        2.200000                  78.8  \n",
      "156                1.8       -0.700000                  78.6  \n",
      "130                5.2        3.700000                  17.4  \n",
      "89                 8.7        2.900000                  34.8  \n",
      "139                4.5       18.000000                  58.4  \n",
      "144               27.3        5.300000                  52.7  \n",
      "5                 18.2        0.900000                  53.5  \n",
      "97                 1.8        8.100000                  37.3  \n",
      "164                1.7       29.897619                  19.5  \n",
      "93                 7.1        3.700000                  36.5  \n",
      "33                 7.0        2.200000                  23.6  \n",
      "18                 3.1        2.800000                  50.9  \n",
      "61                11.6        6.000000                  44.9  \n",
      "51                 6.9        0.700000                  42.7  \n",
      "66                 4.5        6.295833                  39.7  \n",
      "37                 3.7       41.500000                  15.7  \n",
      "4                  8.7       25.700000                  52.6  \n",
      "124                3.6        2.800000                  25.5  \n",
      "60                 9.5        8.000000                 123.2  \n",
      "110               25.0       15.300000                 102.2  \n",
      "125                2.4        3.200000                  37.8  \n",
      "151                3.8        0.600000                  35.2  \n",
      "111               23.3        6.100000                  46.1  \n",
      "160               11.3        3.391667                  28.5  \n",
      "26                 1.6       16.600000                  56.7  \n",
      "56                 6.3        3.400000                  46.6  \n",
      "136                5.5       -0.900000                  17.3  \n",
      "45                 5.7        1.100000                  36.4  \n",
      "8                  5.0       13.000000                  54.7  \n",
      "44                 2.9        2.400000                  34.7  \n",
      "80                12.5        4.400000                 104.1  \n",
      "108               16.1        2.400000                  67.5  \n",
      "98                 5.9       11.500000                  59.3  \n",
      "170                7.7     1087.500000                  34.9  \n",
      "24                 6.3        0.400000                  38.3  \n",
      "30                 6.3        1.600000                  89.7  \n",
      "92                 2.4       12.400000                  34.4  \n",
      "112                2.7        4.500000                  27.2  \n",
      "************************************************\n",
      "[0 0 0 0 0 1 1 0 0 1 0 0 1 0 0 1 1 0 1 0 0 0 0 1 0 0 0 1 1 1 0 0 1 1 0 1 1\n",
      " 1 0 0 1 1 0 0]\n"
     ]
    }
   ],
   "source": [
    "logistic_regression= LogisticRegression()\n",
    "logistic_regression.fit(X_train,y_train)\n",
    "y_pred=logistic_regression.predict(X_test)\n",
    "\n",
    "print(X_test) #test dataset (without the actual outcome)\n",
    "print(\"************************************************\")\n",
    "print (y_pred) #predicted values"
   ]
  },
  {
   "cell_type": "code",
   "execution_count": 38,
   "id": "ed207a8c",
   "metadata": {},
   "outputs": [
    {
     "name": "stdout",
     "output_type": "stream",
     "text": [
      "     Business_Freedom  Monetary_Freedom  Investment_Freedom  \\\n",
      "41               60.7              78.5                75.0   \n",
      "153              46.6              70.4                55.0   \n",
      "134              77.0              83.5                55.0   \n",
      "57               89.4              84.8                85.0   \n",
      "2                61.6              74.9                30.0   \n",
      "..                ...               ...                 ...   \n",
      "148              48.3              56.0                40.0   \n",
      "137              53.3              78.2                60.0   \n",
      "156              50.4              79.1                65.0   \n",
      "15               61.8              78.7                55.0   \n",
      "99               83.9              78.6                60.0   \n",
      "\n",
      "     Unemployment_Rate  Inflation_Rate  Public_Debt_rate_GDP  \n",
      "41                11.2             1.1                  78.4  \n",
      "153                2.2             5.3                  38.2  \n",
      "134                8.2             1.3                  49.1  \n",
      "57                 8.6             0.8                  61.4  \n",
      "2                 10.0             5.6                  25.8  \n",
      "..                 ...             ...                   ...  \n",
      "148                8.1            22.0                  72.1  \n",
      "137                4.9             1.4                  61.2  \n",
      "156                1.8            -0.7                  78.6  \n",
      "15                 9.3             1.1                  99.0  \n",
      "99                 3.4             3.8                  54.2  \n",
      "\n",
      "[104 rows x 6 columns]\n",
      "     Business_Freedom  Monetary_Freedom  Investment_Freedom  \\\n",
      "47               51.9              79.7                70.0   \n",
      "77               83.1              87.0                90.0   \n",
      "45               90.7              84.1                90.0   \n",
      "109              70.3              83.5                65.0   \n",
      "92               50.6              68.9                55.0   \n",
      "..                ...               ...                 ...   \n",
      "117              51.2              65.0                45.0   \n",
      "65               53.6              77.0                70.0   \n",
      "172              71.1              70.3                55.0   \n",
      "66               54.6              66.4                50.0   \n",
      "107              66.0              77.8                50.0   \n",
      "\n",
      "     Unemployment_Rate  Inflation_Rate  Public_Debt_rate_GDP  \n",
      "47                 5.5        3.300000                  37.7  \n",
      "77                 6.4        0.300000                  68.5  \n",
      "45                 5.7        1.100000                  36.4  \n",
      "109                9.3        0.800000                  64.4  \n",
      "92                 2.4       12.400000                  34.4  \n",
      "..                 ...             ...                   ...  \n",
      "117                7.0       16.500000                  23.4  \n",
      "65                 2.7        4.400000                  24.4  \n",
      "172                7.8        6.600000                  62.2  \n",
      "66                 4.5        6.295833                  39.7  \n",
      "107                7.0        4.600000                  91.4  \n",
      "\n",
      "[70 rows x 6 columns]\n"
     ]
    }
   ],
   "source": [
    "#randam Forest\n",
    "from sklearn.model_selection import train_test_split\n",
    "X_train, X_test, Y_train, Y_test = train_test_split(X, y, test_size=0.4, random_state=20)\n",
    "print(X_train)\n",
    "print(X_test)"
   ]
  },
  {
   "cell_type": "code",
   "execution_count": 39,
   "id": "568b18ee",
   "metadata": {},
   "outputs": [],
   "source": [
    "from sklearn.ensemble import RandomForestClassifier \n",
    "model = RandomForestClassifier(n_estimators=10, random_state=30)"
   ]
  },
  {
   "cell_type": "code",
   "execution_count": 40,
   "id": "f20bc079",
   "metadata": {},
   "outputs": [
    {
     "name": "stdout",
     "output_type": "stream",
     "text": [
      "[1 1 1 1 0 1 1 1 0 0 1 0 0 0 0 0 0 0 0 1 1 1 1 1 0 0 0 0 0 1 0 0 0 1 0 1 0\n",
      " 1 1 1 0 1 1 0 1 0 1 1 1 1 1 1 1 1 1 1 0 1 0 0 1 0 0 1 0 0 0 1 0 0]\n"
     ]
    },
    {
     "data": {
      "text/plain": [
       "70"
      ]
     },
     "execution_count": 40,
     "metadata": {},
     "output_type": "execute_result"
    }
   ],
   "source": [
    "#fit data\n",
    "model.fit(X_train, Y_train)\n",
    "\n",
    "#Predict our dataset\n",
    "prediction_test = model.predict(X_test)\n",
    "print(prediction_test)\n",
    "len(prediction_test)"
   ]
  },
  {
   "cell_type": "code",
   "execution_count": 41,
   "id": "43d5bc31",
   "metadata": {},
   "outputs": [
    {
     "name": "stdout",
     "output_type": "stream",
     "text": [
      "Accuracy =  0.9\n",
      "Investment_Freedom      0.427841\n",
      "Business_Freedom        0.316115\n",
      "Monetary_Freedom        0.094434\n",
      "Public_Debt_rate_GDP    0.067755\n",
      "Inflation_Rate          0.055903\n",
      "Unemployment_Rate       0.037952\n",
      "dtype: float64\n"
     ]
    }
   ],
   "source": [
    "#find our prediction accuracy\n",
    "from sklearn import metrics\n",
    "print(\"Accuracy = \", metrics.accuracy_score(Y_test, prediction_test))\n",
    "\n",
    "#find what parameters or features occurs in our model\n",
    "features_list = list(X.columns)\n",
    "feature_imp = pd.Series(model.feature_importances_, index=features_list).sort_values(ascending=False) \n",
    "print(feature_imp)"
   ]
  },
  {
   "cell_type": "code",
   "execution_count": 42,
   "id": "3a8e56af",
   "metadata": {},
   "outputs": [
    {
     "data": {
      "text/plain": [
       "<AxesSubplot:xlabel='Predicted', ylabel='Actual'>"
      ]
     },
     "execution_count": 42,
     "metadata": {},
     "output_type": "execute_result"
    },
    {
     "data": {
      "image/png": "[encoded data removed]",
      "text/plain": [
       "<Figure size 432x288 with 2 Axes>"
      ]
     },
     "metadata": {
      "needs_background": "light"
     },
     "output_type": "display_data"
    }
   ],
   "source": [
    "Y_pred = prediction_test\n",
    "import seaborn as sn\n",
    "confusion_matrix = pd.crosstab(Y_test, Y_pred, rownames=['Actual'], colnames=['Predicted'])\n",
    "sn.heatmap(confusion_matrix, annot=True)"
   ]
  },
  {
   "cell_type": "code",
   "execution_count": 43,
   "id": "dcffe233",
   "metadata": {},
   "outputs": [],
   "source": [
    "# comment and compare\n",
    "\n",
    "\n",
    "# 1)The accuracy of the logistic regression is 0.7 but Random Forest is 0.9, the result of Random Forest is more accuracy\n",
    "# 2)In the headmap, we can see that logistic has less number than Random Forest in the predicted part of 1"
   ]
  },
  {
   "cell_type": "code",
   "execution_count": null,
   "id": "f42a9b2f",
   "metadata": {},
   "outputs": [],
   "source": []
  },
  {
   "cell_type": "code",
   "execution_count": 44,
   "id": "5024767b",
   "metadata": {},
   "outputs": [],
   "source": [
    "#Unsupervised ML"
   ]
  },
  {
   "cell_type": "code",
   "execution_count": 45,
   "id": "c94a6c19",
   "metadata": {},
   "outputs": [],
   "source": [
    "from sklearn.datasets import make_blobs\n",
    "from sklearn.cluster import KMeans\n",
    "from sklearn.metrics import silhouette_samples, silhouette_score\n",
    "\n",
    "import matplotlib.pyplot as plt\n",
    "import matplotlib.cm as cm\n",
    "import numpy as np"
   ]
  },
  {
   "cell_type": "code",
   "execution_count": 46,
   "id": "57ffc8c3",
   "metadata": {},
   "outputs": [
    {
     "data": {
      "text/html": [
       "<div>\n",
       "<style scoped>\n",
       "    .dataframe tbody tr th:only-of-type {\n",
       "        vertical-align: middle;\n",
       "    }\n",
       "\n",
       "    .dataframe tbody tr th {\n",
       "        vertical-align: top;\n",
       "    }\n",
       "\n",
       "    .dataframe thead th {\n",
       "        text-align: right;\n",
       "    }\n",
       "</style>\n",
       "<table border=\"1\" class=\"dataframe\">\n",
       "  <thead>\n",
       "    <tr style=\"text-align: right;\">\n",
       "      <th></th>\n",
       "      <th>Business_Freedom</th>\n",
       "      <th>Investment_Freedom</th>\n",
       "    </tr>\n",
       "  </thead>\n",
       "  <tbody>\n",
       "    <tr>\n",
       "      <th>0</th>\n",
       "      <td>49.2</td>\n",
       "      <td>10.0</td>\n",
       "    </tr>\n",
       "    <tr>\n",
       "      <th>1</th>\n",
       "      <td>69.3</td>\n",
       "      <td>70.0</td>\n",
       "    </tr>\n",
       "    <tr>\n",
       "      <th>2</th>\n",
       "      <td>61.6</td>\n",
       "      <td>30.0</td>\n",
       "    </tr>\n",
       "    <tr>\n",
       "      <th>3</th>\n",
       "      <td>55.7</td>\n",
       "      <td>30.0</td>\n",
       "    </tr>\n",
       "    <tr>\n",
       "      <th>4</th>\n",
       "      <td>56.4</td>\n",
       "      <td>55.0</td>\n",
       "    </tr>\n",
       "  </tbody>\n",
       "</table>\n",
       "</div>"
      ],
      "text/plain": [
       "   Business_Freedom  Investment_Freedom\n",
       "0              49.2                10.0\n",
       "1              69.3                70.0\n",
       "2              61.6                30.0\n",
       "3              55.7                30.0\n",
       "4              56.4                55.0"
      ]
     },
     "execution_count": 46,
     "metadata": {},
     "output_type": "execute_result"
    }
   ],
   "source": [
    "Ml1 = df[['Business_Freedom','Investment_Freedom']]\n",
    "Ml1.head()"
   ]
  },
  {
   "cell_type": "code",
   "execution_count": 47,
   "id": "8932d672",
   "metadata": {},
   "outputs": [
    {
     "data": {
      "text/plain": [
       "Text(0.5, 1.0, 'No Clusters Assigned')"
      ]
     },
     "execution_count": 47,
     "metadata": {},
     "output_type": "execute_result"
    },
    {
     "data": {
      "image/png": "[encoded data removed]",
      "text/plain": [
       "<Figure size 432x432 with 1 Axes>"
      ]
     },
     "metadata": {
      "needs_background": "light"
     },
     "output_type": "display_data"
    }
   ],
   "source": [
    "# Plot the random blub data\n",
    "plt.figure(figsize=(6, 6))\n",
    "plt.scatter(Ml1[\"Business_Freedom\"], Ml1['Investment_Freedom'], s=20)\n",
    "plt.title(f\"No Clusters Assigned\")"
   ]
  },
  {
   "cell_type": "code",
   "execution_count": 48,
   "id": "2706ecb8",
   "metadata": {},
   "outputs": [
    {
     "name": "stdout",
     "output_type": "stream",
     "text": [
      "[[49.44186047 55.90892902]\n",
      " [74.77230769 79.07692308]\n",
      " [54.81       23.23333333]\n",
      " [71.81252834 54.8309997 ]]\n"
     ]
    }
   ],
   "source": [
    "kmeans = KMeans(n_clusters=4).fit(Ml1)\n",
    "centroids = kmeans.cluster_centers_\n",
    "\n",
    "print(centroids)"
   ]
  },
  {
   "cell_type": "code",
   "execution_count": 49,
   "id": "2c0e1ef4",
   "metadata": {},
   "outputs": [
    {
     "data": {
      "text/plain": [
       "<matplotlib.collections.PathCollection at 0x18a87c062b0>"
      ]
     },
     "execution_count": 49,
     "metadata": {},
     "output_type": "execute_result"
    },
    {
     "data": {
      "image/png": "[encoded data removed]",
      "text/plain": [
       "<Figure size 432x288 with 1 Axes>"
      ]
     },
     "metadata": {
      "needs_background": "light"
     },
     "output_type": "display_data"
    }
   ],
   "source": [
    "plt.scatter(Ml1['Business_Freedom'], Ml1['Investment_Freedom'], c= kmeans.labels_.astype(float), s=50, alpha=0.9)\n",
    "plt.scatter(centroids[:, 0], centroids[:, 1], c='red', s=100)"
   ]
  },
  {
   "cell_type": "code",
   "execution_count": 50,
   "id": "c271676b",
   "metadata": {},
   "outputs": [
    {
     "name": "stderr",
     "output_type": "stream",
     "text": [
      "C:\\Users\\user\\anaconda3\\lib\\site-packages\\sklearn\\cluster\\_kmeans.py:1036: UserWarning: KMeans is known to have a memory leak on Windows with MKL, when there are less chunks than available threads. You can avoid it by setting the environment variable OMP_NUM_THREADS=1.\n",
      "  warnings.warn(\n"
     ]
    }
   ],
   "source": [
    "distortions = []\n",
    "K = range(1,10)\n",
    "for k in K:\n",
    "    kmeanModel = KMeans(n_clusters=k)\n",
    "    kmeanModel.fit(Ml1)\n",
    "    distortions.append(kmeanModel.inertia_)"
   ]
  },
  {
   "cell_type": "code",
   "execution_count": 51,
   "id": "2f7749fe",
   "metadata": {},
   "outputs": [
    {
     "data": {
      "image/png": "[encoded data removed]",
      "text/plain": [
       "<Figure size 576x288 with 1 Axes>"
      ]
     },
     "metadata": {
      "needs_background": "light"
     },
     "output_type": "display_data"
    }
   ],
   "source": [
    "plt.figure(figsize=(8,4))\n",
    "plt.plot(K, distortions, 'bx-')\n",
    "plt.xlabel('k')\n",
    "plt.ylabel('Distortion')\n",
    "plt.title('The Elbow Method showing the optimal k')\n",
    "plt.show()"
   ]
  },
  {
   "cell_type": "code",
   "execution_count": 52,
   "id": "ded7f070",
   "metadata": {},
   "outputs": [],
   "source": [
    "Ml1 = {'X':df['Business_Freedom'], 'y':df['Investment_Freedom']}"
   ]
  },
  {
   "cell_type": "code",
   "execution_count": 53,
   "id": "9d3d0b1f",
   "metadata": {},
   "outputs": [
    {
     "name": "stdout",
     "output_type": "stream",
     "text": [
      "For n_clusters = 2 The average silhouette_score is : 0.9440456514285904\n",
      "For n_clusters = 3 The average silhouette_score is : 0.39928099758631086\n",
      "For n_clusters = 4 The average silhouette_score is : 0.27672986600305555\n",
      "For n_clusters = 5 The average silhouette_score is : 0.24889630677357363\n",
      "For n_clusters = 6 The average silhouette_score is : 0.2277478781878104\n"
     ]
    },
    {
     "data": {
      "image/png": "[encoded data removed]",
      "text/plain": [
       "<Figure size 1296x504 with 2 Axes>"
      ]
     },
     "metadata": {
      "needs_background": "light"
     },
     "output_type": "display_data"
    },
    {
     "data": {
      "image/png": "[encoded data removed]",
      "text/plain": [
       "<Figure size 1296x504 with 2 Axes>"
      ]
     },
     "metadata": {
      "needs_background": "light"
     },
     "output_type": "display_data"
    },
    {
     "data": {
      "image/png": "[encoded data removed]",
      "text/plain": [
       "<Figure size 1296x504 with 2 Axes>"
      ]
     },
     "metadata": {
      "needs_background": "light"
     },
     "output_type": "display_data"
    },
    {
     "data": {
      "image/png": "[encoded data removed]",
      "text/plain": [
       "<Figure size 1296x504 with 2 Axes>"
      ]
     },
     "metadata": {
      "needs_background": "light"
     },
     "output_type": "display_data"
    },
    {
     "data": {
      "image/png": "[encoded data removed]",
      "text/plain": [
       "<Figure size 1296x504 with 2 Axes>"
      ]
     },
     "metadata": {
      "needs_background": "light"
     },
     "output_type": "display_data"
    }
   ],
   "source": [
    "range_n_clusters = [2, 3, 4, 5, 6]\n",
    "\n",
    "for n_clusters in range_n_clusters:\n",
    "    fig, (ax1, ax2) = plt.subplots(1, 2)\n",
    "    fig.set_size_inches(18, 7)\n",
    "\n",
    "   \n",
    "    ax1.set_xlim([-0.1, 1])\n",
    "    ax1.set_ylim([0, len(X) + (n_clusters + 1) * 10])\n",
    "\n",
    "    \n",
    "    clusterer = KMeans(n_clusters=n_clusters, random_state=10)\n",
    "    cluster_labels = clusterer.fit_predict(X)\n",
    "\n",
    "    \n",
    "    silhouette_avg = silhouette_score(X, cluster_labels)\n",
    "    print(\"For n_clusters =\", n_clusters,\n",
    "          \"The average silhouette_score is :\", silhouette_avg)\n",
    "    \n",
    "# Compute the silhouette scores for each sample\n",
    "    sample_silhouette_values = silhouette_samples(X, cluster_labels)\n",
    "\n",
    "    y_lower = 10\n",
    "    for i in range(n_clusters):\n",
    "        # Aggregate the silhouette scores for samples belonging to\n",
    "        # cluster i, and sort them\n",
    "        ith_cluster_silhouette_values = \\\n",
    "            sample_silhouette_values[cluster_labels == i]\n",
    "\n",
    "        ith_cluster_silhouette_values.sort()\n",
    "\n",
    "        size_cluster_i = ith_cluster_silhouette_values.shape[0]\n",
    "        y_upper = y_lower + size_cluster_i\n",
    "\n",
    "        color = cm.nipy_spectral(float(i) / n_clusters)\n",
    "        ax1.fill_betweenx(np.arange(y_lower, y_upper),\n",
    "                          0, ith_cluster_silhouette_values,\n",
    "                          facecolor=color, edgecolor=color, alpha=0.7)\n",
    "\n",
    "        # Label the silhouette plots with their cluster numbers at the middle\n",
    "        ax1.text(-0.05, y_lower + 0.5 * size_cluster_i, str(i))\n",
    "\n",
    "        # Compute the new y_lower for next plot\n",
    "        y_lower = y_upper + 10  # 10 for the 0 samples\n",
    "\n",
    "    ax1.set_title(\"The silhouette plot for the various clusters.\")\n",
    "    ax1.set_xlabel(\"The silhouette coefficient values\")\n",
    "    ax1.set_ylabel(\"Cluster label\")\n",
    "\n",
    "    \n",
    "    \n",
    "    # The vertical line for average silhouette score of all the values\n",
    "    ax1.axvline(x=silhouette_avg, color=\"red\", linestyle=\"--\")\n",
    "\n",
    "    ax1.set_yticks([])  # Clear the yaxis labels / ticks\n",
    "    ax1.set_xticks([-0.1, 0, 0.2, 0.4, 0.6, 0.8, 1])\n",
    "\n",
    "  # 2nd Plot showing the actual clusters formed\n",
    "    colors = cm.nipy_spectral(cluster_labels.astype(float) / n_clusters)\n",
    "    #ax2.scatter(X[:, 0], X[:, 1], marker='.', s=30, lw=0, alpha=0.7,c=colors, edgecolor='k')\n",
    "   \n",
    "  # Labeling the clusters\n",
    "    centers = clusterer.cluster_centers_\n",
    "    # Draw white circles at cluster centers\n",
    "    ax2.scatter(centers[:, 0], centers[:, 1], marker='o',\n",
    "                c=\"white\", alpha=1, s=200, edgecolor='k')\n",
    "\n",
    "    for i, c in enumerate(centers):\n",
    "        ax2.scatter(c[0], c[1], marker='$%d$' % i, alpha=1,\n",
    "                    s=50, edgecolor='k')\n",
    "\n",
    "    ax2.set_title(\"The visualization of the clustered data.\")\n",
    "    ax2.set_xlabel(\"Feature space for the 1st feature\")\n",
    "    ax2.set_ylabel(\"Feature space for the 2nd feature\")\n",
    "\n",
    "    plt.suptitle((\"Silhouette analysis for KMeans clustering on sample data \"\n",
    "                  \"with n_clusters = %d\" % n_clusters),\n",
    "                 fontsize=14, fontweight='bold')\n",
    "\n",
    "    \n",
    "\n",
    "\n",
    "plt.show();\n",
    "    \n",
    "      \n",
    "    "
   ]
  },
  {
   "cell_type": "code",
   "execution_count": null,
   "id": "ea691fa9",
   "metadata": {},
   "outputs": [],
   "source": []
  },
  {
   "cell_type": "code",
   "execution_count": null,
   "id": "df8748e1",
   "metadata": {},
   "outputs": [],
   "source": []
  }
 ],
 "metadata": {
  "kernelspec": {
   "display_name": "Python 3 (ipykernel)",
   "language": "python",
   "name": "python3"
  },
  "language_info": {
   "codemirror_mode": {
    "name": "ipython",
    "version": 3
   },
   "file_extension": ".py",
   "mimetype": "text/x-python",
   "name": "python",
   "nbconvert_exporter": "python",
   "pygments_lexer": "ipython3",
   "version": "3.9.12"
  }
 },
 "nbformat": 4,
 "nbformat_minor": 5
}
